{
  "nbformat": 4,
  "nbformat_minor": 0,
  "metadata": {
    "colab": {
      "name": "clusters",
      "provenance": [],
      "collapsed_sections": [],
      "authorship_tag": "ABX9TyMEoQvd65Y2Mz4jIvs7o7Rk",
      "include_colab_link": true
    },
    "kernelspec": {
      "name": "python3",
      "display_name": "Python 3"
    },
    "language_info": {
      "name": "python"
    }
  },
  "cells": [
    {
      "cell_type": "markdown",
      "metadata": {
        "id": "view-in-github",
        "colab_type": "text"
      },
      "source": [
        "<a href=\"https://colab.research.google.com/github/wSedler/Clustering_of_borrowers/blob/main/clusters.ipynb\" target=\"_parent\"><img src=\"https://colab.research.google.com/assets/colab-badge.svg\" alt=\"Open In Colab\"/></a>"
      ]
    },
    {
      "cell_type": "markdown",
      "metadata": {
        "id": "AemnFfxMcCb7"
      },
      "source": [
        "# Исследование надёжности заёмщиков"
      ]
    },
    {
      "cell_type": "markdown",
      "metadata": {
        "id": "6fIVwjhydh2M"
      },
      "source": [
        "Заказчик — кредитный отдел банка. Нужно разобраться, влияет ли семейное положение и количество детей клиента на факт погашения кредита в срок. Входные данные от банка — статистика о платёжеспособности клиентов.\n",
        "\n",
        "Результаты исследования будут учтены при построении модели кредитного скоринга — специальной системы, которая оценивает способность потенциального заёмщика вернуть кредит банку."
      ]
    },
    {
      "cell_type": "code",
      "metadata": {
        "id": "Z-qEtVB8kbmY"
      },
      "source": [
        "import pandas as pd\n",
        "import matplotlib\n",
        "import matplotlib.pyplot as plt\n",
        "import numpy as np\n",
        "matplotlib.style.use('ggplot')\n",
        "%matplotlib inline"
      ],
      "execution_count": 1,
      "outputs": []
    },
    {
      "cell_type": "markdown",
      "metadata": {
        "id": "7hfAzXAFj-Fv"
      },
      "source": [
        "Ссылка на google disc https://drive.google.com/file/d/1MG7ImhVqd7yLSWMV01gROnQIebxe4qQZ/view?usp=sharing"
      ]
    },
    {
      "cell_type": "code",
      "metadata": {
        "colab": {
          "base_uri": "https://localhost:8080/"
        },
        "id": "baZiizwigoBE",
        "outputId": "35c2e036-a7a9-49d4-fabd-daca4c97da69"
      },
      "source": [
        "!gdown --id 1MG7ImhVqd7yLSWMV01gROnQIebxe4qQZ"
      ],
      "execution_count": 2,
      "outputs": [
        {
          "output_type": "stream",
          "name": "stdout",
          "text": [
            "Downloading...\n",
            "From: https://drive.google.com/uc?id=1MG7ImhVqd7yLSWMV01gROnQIebxe4qQZ\n",
            "To: /content/data.csv\n",
            "\r  0% 0.00/3.32M [00:00<?, ?B/s]\r100% 3.32M/3.32M [00:00<00:00, 52.5MB/s]\n"
          ]
        }
      ]
    },
    {
      "cell_type": "code",
      "metadata": {
        "id": "J4VI3qlgkSss"
      },
      "source": [
        "df = pd.read_csv('/content/data.csv')"
      ],
      "execution_count": 3,
      "outputs": []
    },
    {
      "cell_type": "code",
      "metadata": {
        "colab": {
          "base_uri": "https://localhost:8080/",
          "height": 300
        },
        "id": "rGP3f2Thknik",
        "outputId": "457d333c-1fc3-454e-b546-849c08d4b4bf"
      },
      "source": [
        "df.describe()"
      ],
      "execution_count": 4,
      "outputs": [
        {
          "output_type": "execute_result",
          "data": {
            "text/html": [
              "<div>\n",
              "<style scoped>\n",
              "    .dataframe tbody tr th:only-of-type {\n",
              "        vertical-align: middle;\n",
              "    }\n",
              "\n",
              "    .dataframe tbody tr th {\n",
              "        vertical-align: top;\n",
              "    }\n",
              "\n",
              "    .dataframe thead th {\n",
              "        text-align: right;\n",
              "    }\n",
              "</style>\n",
              "<table border=\"1\" class=\"dataframe\">\n",
              "  <thead>\n",
              "    <tr style=\"text-align: right;\">\n",
              "      <th></th>\n",
              "      <th>children</th>\n",
              "      <th>days_employed</th>\n",
              "      <th>dob_years</th>\n",
              "      <th>education_id</th>\n",
              "      <th>family_status_id</th>\n",
              "      <th>debt</th>\n",
              "      <th>total_income</th>\n",
              "    </tr>\n",
              "  </thead>\n",
              "  <tbody>\n",
              "    <tr>\n",
              "      <th>count</th>\n",
              "      <td>21525.000000</td>\n",
              "      <td>19351.000000</td>\n",
              "      <td>21525.000000</td>\n",
              "      <td>21525.000000</td>\n",
              "      <td>21525.000000</td>\n",
              "      <td>21525.000000</td>\n",
              "      <td>1.935100e+04</td>\n",
              "    </tr>\n",
              "    <tr>\n",
              "      <th>mean</th>\n",
              "      <td>0.538908</td>\n",
              "      <td>63046.497661</td>\n",
              "      <td>43.293380</td>\n",
              "      <td>0.817236</td>\n",
              "      <td>0.972544</td>\n",
              "      <td>0.080883</td>\n",
              "      <td>1.674223e+05</td>\n",
              "    </tr>\n",
              "    <tr>\n",
              "      <th>std</th>\n",
              "      <td>1.381587</td>\n",
              "      <td>140827.311974</td>\n",
              "      <td>12.574584</td>\n",
              "      <td>0.548138</td>\n",
              "      <td>1.420324</td>\n",
              "      <td>0.272661</td>\n",
              "      <td>1.029716e+05</td>\n",
              "    </tr>\n",
              "    <tr>\n",
              "      <th>min</th>\n",
              "      <td>-1.000000</td>\n",
              "      <td>-18388.949901</td>\n",
              "      <td>0.000000</td>\n",
              "      <td>0.000000</td>\n",
              "      <td>0.000000</td>\n",
              "      <td>0.000000</td>\n",
              "      <td>2.066726e+04</td>\n",
              "    </tr>\n",
              "    <tr>\n",
              "      <th>25%</th>\n",
              "      <td>0.000000</td>\n",
              "      <td>-2747.423625</td>\n",
              "      <td>33.000000</td>\n",
              "      <td>1.000000</td>\n",
              "      <td>0.000000</td>\n",
              "      <td>0.000000</td>\n",
              "      <td>1.030532e+05</td>\n",
              "    </tr>\n",
              "    <tr>\n",
              "      <th>50%</th>\n",
              "      <td>0.000000</td>\n",
              "      <td>-1203.369529</td>\n",
              "      <td>42.000000</td>\n",
              "      <td>1.000000</td>\n",
              "      <td>0.000000</td>\n",
              "      <td>0.000000</td>\n",
              "      <td>1.450179e+05</td>\n",
              "    </tr>\n",
              "    <tr>\n",
              "      <th>75%</th>\n",
              "      <td>1.000000</td>\n",
              "      <td>-291.095954</td>\n",
              "      <td>53.000000</td>\n",
              "      <td>1.000000</td>\n",
              "      <td>1.000000</td>\n",
              "      <td>0.000000</td>\n",
              "      <td>2.034351e+05</td>\n",
              "    </tr>\n",
              "    <tr>\n",
              "      <th>max</th>\n",
              "      <td>20.000000</td>\n",
              "      <td>401755.400475</td>\n",
              "      <td>75.000000</td>\n",
              "      <td>4.000000</td>\n",
              "      <td>4.000000</td>\n",
              "      <td>1.000000</td>\n",
              "      <td>2.265604e+06</td>\n",
              "    </tr>\n",
              "  </tbody>\n",
              "</table>\n",
              "</div>"
            ],
            "text/plain": [
              "           children  days_employed  ...          debt  total_income\n",
              "count  21525.000000   19351.000000  ...  21525.000000  1.935100e+04\n",
              "mean       0.538908   63046.497661  ...      0.080883  1.674223e+05\n",
              "std        1.381587  140827.311974  ...      0.272661  1.029716e+05\n",
              "min       -1.000000  -18388.949901  ...      0.000000  2.066726e+04\n",
              "25%        0.000000   -2747.423625  ...      0.000000  1.030532e+05\n",
              "50%        0.000000   -1203.369529  ...      0.000000  1.450179e+05\n",
              "75%        1.000000    -291.095954  ...      0.000000  2.034351e+05\n",
              "max       20.000000  401755.400475  ...      1.000000  2.265604e+06\n",
              "\n",
              "[8 rows x 7 columns]"
            ]
          },
          "metadata": {},
          "execution_count": 4
        }
      ]
    },
    {
      "cell_type": "markdown",
      "metadata": {
        "id": "Hxxnn-ryNYiW"
      },
      "source": [
        "## Предобработка данных"
      ]
    },
    {
      "cell_type": "markdown",
      "metadata": {
        "id": "JTJr0Tp_OvJN"
      },
      "source": [
        "Обработка \"children\"\n"
      ]
    },
    {
      "cell_type": "code",
      "metadata": {
        "colab": {
          "base_uri": "https://localhost:8080/"
        },
        "id": "fct0dIZdNYH2",
        "outputId": "9ad16c56-6348-416f-bead-abff21d769ae"
      },
      "source": [
        "df['children'].value_counts()"
      ],
      "execution_count": 5,
      "outputs": [
        {
          "output_type": "execute_result",
          "data": {
            "text/plain": [
              " 0     14149\n",
              " 1      4818\n",
              " 2      2055\n",
              " 3       330\n",
              " 20       76\n",
              "-1        47\n",
              " 4        41\n",
              " 5         9\n",
              "Name: children, dtype: int64"
            ]
          },
          "metadata": {},
          "execution_count": 5
        }
      ]
    },
    {
      "cell_type": "markdown",
      "metadata": {
        "id": "AB01bnSgN2Co"
      },
      "source": [
        "Значения 20 и -1 ошибочны, скорее всего это опечатки. (20 это 2, а -1 это 1)"
      ]
    },
    {
      "cell_type": "code",
      "metadata": {
        "id": "kskWlmwXOZ30"
      },
      "source": [
        "df.loc[df['children'] == 20, 'children'] = 2"
      ],
      "execution_count": 6,
      "outputs": []
    },
    {
      "cell_type": "code",
      "metadata": {
        "id": "DTDjhbKGObHb"
      },
      "source": [
        "df.loc[df['children'] == -1, 'children'] = 1"
      ],
      "execution_count": 7,
      "outputs": []
    },
    {
      "cell_type": "code",
      "metadata": {
        "colab": {
          "base_uri": "https://localhost:8080/"
        },
        "id": "u0SVpXbbOiuF",
        "outputId": "bfdea272-dd01-4fae-e22d-fe0fbdf5749a"
      },
      "source": [
        "df['children'].value_counts()"
      ],
      "execution_count": 8,
      "outputs": [
        {
          "output_type": "execute_result",
          "data": {
            "text/plain": [
              "0    14149\n",
              "1     4865\n",
              "2     2131\n",
              "3      330\n",
              "4       41\n",
              "5        9\n",
              "Name: children, dtype: int64"
            ]
          },
          "metadata": {},
          "execution_count": 8
        }
      ]
    },
    {
      "cell_type": "markdown",
      "metadata": {
        "id": "1f7Qh4OgOmsG"
      },
      "source": [
        "Обработка \"days_employed\"\n"
      ]
    },
    {
      "cell_type": "code",
      "metadata": {
        "colab": {
          "base_uri": "https://localhost:8080/"
        },
        "id": "YoFuCpACPK0P",
        "outputId": "e7e6c040-0d71-4f12-dcbc-6af86f8630fb"
      },
      "source": [
        "df['days_employed'].isna().sum()"
      ],
      "execution_count": 9,
      "outputs": [
        {
          "output_type": "execute_result",
          "data": {
            "text/plain": [
              "2174"
            ]
          },
          "metadata": {},
          "execution_count": 9
        }
      ]
    },
    {
      "cell_type": "code",
      "metadata": {
        "colab": {
          "base_uri": "https://localhost:8080/"
        },
        "id": "ybcNMhjgPL7M",
        "outputId": "7620432f-ec3c-423e-dd93-5a99fb533833"
      },
      "source": [
        "df[(df['days_employed'].isna()) & (df['total_income'].isna())]['purpose'].count()"
      ],
      "execution_count": 10,
      "outputs": [
        {
          "output_type": "execute_result",
          "data": {
            "text/plain": [
              "2174"
            ]
          },
          "metadata": {},
          "execution_count": 10
        }
      ]
    },
    {
      "cell_type": "markdown",
      "metadata": {
        "id": "wuksNLtNPSsN"
      },
      "source": [
        "Отсутствие значений days_employed и total_income взаимосвязаны"
      ]
    },
    {
      "cell_type": "code",
      "metadata": {
        "colab": {
          "base_uri": "https://localhost:8080/",
          "height": 415
        },
        "id": "Tr1aN_csPrXl",
        "outputId": "eb670280-970a-4c6d-d4cd-1dd194e5f0eb"
      },
      "source": [
        "df[df['days_employed'] > 0].head(10)"
      ],
      "execution_count": 11,
      "outputs": [
        {
          "output_type": "execute_result",
          "data": {
            "text/html": [
              "<div>\n",
              "<style scoped>\n",
              "    .dataframe tbody tr th:only-of-type {\n",
              "        vertical-align: middle;\n",
              "    }\n",
              "\n",
              "    .dataframe tbody tr th {\n",
              "        vertical-align: top;\n",
              "    }\n",
              "\n",
              "    .dataframe thead th {\n",
              "        text-align: right;\n",
              "    }\n",
              "</style>\n",
              "<table border=\"1\" class=\"dataframe\">\n",
              "  <thead>\n",
              "    <tr style=\"text-align: right;\">\n",
              "      <th></th>\n",
              "      <th>children</th>\n",
              "      <th>days_employed</th>\n",
              "      <th>dob_years</th>\n",
              "      <th>education</th>\n",
              "      <th>education_id</th>\n",
              "      <th>family_status</th>\n",
              "      <th>family_status_id</th>\n",
              "      <th>gender</th>\n",
              "      <th>income_type</th>\n",
              "      <th>debt</th>\n",
              "      <th>total_income</th>\n",
              "      <th>purpose</th>\n",
              "    </tr>\n",
              "  </thead>\n",
              "  <tbody>\n",
              "    <tr>\n",
              "      <th>4</th>\n",
              "      <td>0</td>\n",
              "      <td>340266.072047</td>\n",
              "      <td>53</td>\n",
              "      <td>среднее</td>\n",
              "      <td>1</td>\n",
              "      <td>гражданский брак</td>\n",
              "      <td>1</td>\n",
              "      <td>F</td>\n",
              "      <td>пенсионер</td>\n",
              "      <td>0</td>\n",
              "      <td>158616.077870</td>\n",
              "      <td>сыграть свадьбу</td>\n",
              "    </tr>\n",
              "    <tr>\n",
              "      <th>18</th>\n",
              "      <td>0</td>\n",
              "      <td>400281.136913</td>\n",
              "      <td>53</td>\n",
              "      <td>среднее</td>\n",
              "      <td>1</td>\n",
              "      <td>вдовец / вдова</td>\n",
              "      <td>2</td>\n",
              "      <td>F</td>\n",
              "      <td>пенсионер</td>\n",
              "      <td>0</td>\n",
              "      <td>56823.777243</td>\n",
              "      <td>на покупку подержанного автомобиля</td>\n",
              "    </tr>\n",
              "    <tr>\n",
              "      <th>24</th>\n",
              "      <td>1</td>\n",
              "      <td>338551.952911</td>\n",
              "      <td>57</td>\n",
              "      <td>среднее</td>\n",
              "      <td>1</td>\n",
              "      <td>Не женат / не замужем</td>\n",
              "      <td>4</td>\n",
              "      <td>F</td>\n",
              "      <td>пенсионер</td>\n",
              "      <td>0</td>\n",
              "      <td>290547.235997</td>\n",
              "      <td>операции с коммерческой недвижимостью</td>\n",
              "    </tr>\n",
              "    <tr>\n",
              "      <th>25</th>\n",
              "      <td>0</td>\n",
              "      <td>363548.489348</td>\n",
              "      <td>67</td>\n",
              "      <td>среднее</td>\n",
              "      <td>1</td>\n",
              "      <td>женат / замужем</td>\n",
              "      <td>0</td>\n",
              "      <td>M</td>\n",
              "      <td>пенсионер</td>\n",
              "      <td>0</td>\n",
              "      <td>55112.757732</td>\n",
              "      <td>покупка недвижимости</td>\n",
              "    </tr>\n",
              "    <tr>\n",
              "      <th>30</th>\n",
              "      <td>1</td>\n",
              "      <td>335581.668515</td>\n",
              "      <td>62</td>\n",
              "      <td>среднее</td>\n",
              "      <td>1</td>\n",
              "      <td>женат / замужем</td>\n",
              "      <td>0</td>\n",
              "      <td>F</td>\n",
              "      <td>пенсионер</td>\n",
              "      <td>0</td>\n",
              "      <td>171456.067993</td>\n",
              "      <td>операции с коммерческой недвижимостью</td>\n",
              "    </tr>\n",
              "    <tr>\n",
              "      <th>35</th>\n",
              "      <td>0</td>\n",
              "      <td>394021.072184</td>\n",
              "      <td>68</td>\n",
              "      <td>среднее</td>\n",
              "      <td>1</td>\n",
              "      <td>гражданский брак</td>\n",
              "      <td>1</td>\n",
              "      <td>M</td>\n",
              "      <td>пенсионер</td>\n",
              "      <td>0</td>\n",
              "      <td>77805.677436</td>\n",
              "      <td>на проведение свадьбы</td>\n",
              "    </tr>\n",
              "    <tr>\n",
              "      <th>50</th>\n",
              "      <td>0</td>\n",
              "      <td>353731.432338</td>\n",
              "      <td>63</td>\n",
              "      <td>среднее</td>\n",
              "      <td>1</td>\n",
              "      <td>женат / замужем</td>\n",
              "      <td>0</td>\n",
              "      <td>F</td>\n",
              "      <td>пенсионер</td>\n",
              "      <td>0</td>\n",
              "      <td>92342.730612</td>\n",
              "      <td>автомобили</td>\n",
              "    </tr>\n",
              "    <tr>\n",
              "      <th>56</th>\n",
              "      <td>0</td>\n",
              "      <td>370145.087237</td>\n",
              "      <td>64</td>\n",
              "      <td>среднее</td>\n",
              "      <td>1</td>\n",
              "      <td>вдовец / вдова</td>\n",
              "      <td>2</td>\n",
              "      <td>F</td>\n",
              "      <td>пенсионер</td>\n",
              "      <td>0</td>\n",
              "      <td>149141.043533</td>\n",
              "      <td>образование</td>\n",
              "    </tr>\n",
              "    <tr>\n",
              "      <th>71</th>\n",
              "      <td>0</td>\n",
              "      <td>338113.529892</td>\n",
              "      <td>62</td>\n",
              "      <td>среднее</td>\n",
              "      <td>1</td>\n",
              "      <td>женат / замужем</td>\n",
              "      <td>0</td>\n",
              "      <td>F</td>\n",
              "      <td>пенсионер</td>\n",
              "      <td>0</td>\n",
              "      <td>43929.696397</td>\n",
              "      <td>автомобили</td>\n",
              "    </tr>\n",
              "    <tr>\n",
              "      <th>78</th>\n",
              "      <td>0</td>\n",
              "      <td>359722.945074</td>\n",
              "      <td>61</td>\n",
              "      <td>высшее</td>\n",
              "      <td>0</td>\n",
              "      <td>женат / замужем</td>\n",
              "      <td>0</td>\n",
              "      <td>M</td>\n",
              "      <td>пенсионер</td>\n",
              "      <td>0</td>\n",
              "      <td>175127.646000</td>\n",
              "      <td>сделка с автомобилем</td>\n",
              "    </tr>\n",
              "  </tbody>\n",
              "</table>\n",
              "</div>"
            ],
            "text/plain": [
              "    children  ...                                purpose\n",
              "4          0  ...                        сыграть свадьбу\n",
              "18         0  ...     на покупку подержанного автомобиля\n",
              "24         1  ...  операции с коммерческой недвижимостью\n",
              "25         0  ...                   покупка недвижимости\n",
              "30         1  ...  операции с коммерческой недвижимостью\n",
              "35         0  ...                  на проведение свадьбы\n",
              "50         0  ...                             автомобили\n",
              "56         0  ...                            образование\n",
              "71         0  ...                             автомобили\n",
              "78         0  ...                   сделка с автомобилем\n",
              "\n",
              "[10 rows x 12 columns]"
            ]
          },
          "metadata": {},
          "execution_count": 11
        }
      ]
    },
    {
      "cell_type": "code",
      "metadata": {
        "colab": {
          "base_uri": "https://localhost:8080/"
        },
        "id": "tJ8SFPu1PsdN",
        "outputId": "bbec9d8d-f69b-4a73-9bed-527cf11ccd28"
      },
      "source": [
        "df[df['days_employed'] > 0]['dob_years'].count()"
      ],
      "execution_count": 12,
      "outputs": [
        {
          "output_type": "execute_result",
          "data": {
            "text/plain": [
              "3445"
            ]
          },
          "metadata": {},
          "execution_count": 12
        }
      ]
    },
    {
      "cell_type": "code",
      "metadata": {
        "colab": {
          "base_uri": "https://localhost:8080/"
        },
        "id": "TVR0wK8bPxS9",
        "outputId": "564dc8e7-0415-45a0-fd61-4369ee8a7f1e"
      },
      "source": [
        "df[(df['income_type'] == 'пенсионер') & (df['days_employed'] > 0)]['dob_years'].count()"
      ],
      "execution_count": 13,
      "outputs": [
        {
          "output_type": "execute_result",
          "data": {
            "text/plain": [
              "3443"
            ]
          },
          "metadata": {},
          "execution_count": 13
        }
      ]
    },
    {
      "cell_type": "code",
      "metadata": {
        "colab": {
          "base_uri": "https://localhost:8080/",
          "height": 112
        },
        "id": "Az7G4UIoP0Ai",
        "outputId": "1b1f89f0-a171-4491-ce25-f620cb53b60f"
      },
      "source": [
        "df[(df['income_type'] != 'пенсионер') & (df['days_employed'] > 0)]"
      ],
      "execution_count": 14,
      "outputs": [
        {
          "output_type": "execute_result",
          "data": {
            "text/html": [
              "<div>\n",
              "<style scoped>\n",
              "    .dataframe tbody tr th:only-of-type {\n",
              "        vertical-align: middle;\n",
              "    }\n",
              "\n",
              "    .dataframe tbody tr th {\n",
              "        vertical-align: top;\n",
              "    }\n",
              "\n",
              "    .dataframe thead th {\n",
              "        text-align: right;\n",
              "    }\n",
              "</style>\n",
              "<table border=\"1\" class=\"dataframe\">\n",
              "  <thead>\n",
              "    <tr style=\"text-align: right;\">\n",
              "      <th></th>\n",
              "      <th>children</th>\n",
              "      <th>days_employed</th>\n",
              "      <th>dob_years</th>\n",
              "      <th>education</th>\n",
              "      <th>education_id</th>\n",
              "      <th>family_status</th>\n",
              "      <th>family_status_id</th>\n",
              "      <th>gender</th>\n",
              "      <th>income_type</th>\n",
              "      <th>debt</th>\n",
              "      <th>total_income</th>\n",
              "      <th>purpose</th>\n",
              "    </tr>\n",
              "  </thead>\n",
              "  <tbody>\n",
              "    <tr>\n",
              "      <th>3133</th>\n",
              "      <td>1</td>\n",
              "      <td>337524.466835</td>\n",
              "      <td>31</td>\n",
              "      <td>среднее</td>\n",
              "      <td>1</td>\n",
              "      <td>женат / замужем</td>\n",
              "      <td>0</td>\n",
              "      <td>M</td>\n",
              "      <td>безработный</td>\n",
              "      <td>1</td>\n",
              "      <td>59956.991984</td>\n",
              "      <td>покупка жилья для сдачи</td>\n",
              "    </tr>\n",
              "    <tr>\n",
              "      <th>14798</th>\n",
              "      <td>0</td>\n",
              "      <td>395302.838654</td>\n",
              "      <td>45</td>\n",
              "      <td>Высшее</td>\n",
              "      <td>0</td>\n",
              "      <td>гражданский брак</td>\n",
              "      <td>1</td>\n",
              "      <td>F</td>\n",
              "      <td>безработный</td>\n",
              "      <td>0</td>\n",
              "      <td>202722.511368</td>\n",
              "      <td>ремонт жилью</td>\n",
              "    </tr>\n",
              "  </tbody>\n",
              "</table>\n",
              "</div>"
            ],
            "text/plain": [
              "       children  days_employed  ...   total_income                  purpose\n",
              "3133          1  337524.466835  ...   59956.991984  покупка жилья для сдачи\n",
              "14798         0  395302.838654  ...  202722.511368             ремонт жилью\n",
              "\n",
              "[2 rows x 12 columns]"
            ]
          },
          "metadata": {},
          "execution_count": 14
        }
      ]
    },
    {
      "cell_type": "code",
      "metadata": {
        "colab": {
          "base_uri": "https://localhost:8080/",
          "height": 112
        },
        "id": "XdZc4ZqwP4ql",
        "outputId": "8adb3a72-6954-4db8-cfe7-403a6436bdb4"
      },
      "source": [
        "df[df['income_type'] == 'безработный']"
      ],
      "execution_count": 15,
      "outputs": [
        {
          "output_type": "execute_result",
          "data": {
            "text/html": [
              "<div>\n",
              "<style scoped>\n",
              "    .dataframe tbody tr th:only-of-type {\n",
              "        vertical-align: middle;\n",
              "    }\n",
              "\n",
              "    .dataframe tbody tr th {\n",
              "        vertical-align: top;\n",
              "    }\n",
              "\n",
              "    .dataframe thead th {\n",
              "        text-align: right;\n",
              "    }\n",
              "</style>\n",
              "<table border=\"1\" class=\"dataframe\">\n",
              "  <thead>\n",
              "    <tr style=\"text-align: right;\">\n",
              "      <th></th>\n",
              "      <th>children</th>\n",
              "      <th>days_employed</th>\n",
              "      <th>dob_years</th>\n",
              "      <th>education</th>\n",
              "      <th>education_id</th>\n",
              "      <th>family_status</th>\n",
              "      <th>family_status_id</th>\n",
              "      <th>gender</th>\n",
              "      <th>income_type</th>\n",
              "      <th>debt</th>\n",
              "      <th>total_income</th>\n",
              "      <th>purpose</th>\n",
              "    </tr>\n",
              "  </thead>\n",
              "  <tbody>\n",
              "    <tr>\n",
              "      <th>3133</th>\n",
              "      <td>1</td>\n",
              "      <td>337524.466835</td>\n",
              "      <td>31</td>\n",
              "      <td>среднее</td>\n",
              "      <td>1</td>\n",
              "      <td>женат / замужем</td>\n",
              "      <td>0</td>\n",
              "      <td>M</td>\n",
              "      <td>безработный</td>\n",
              "      <td>1</td>\n",
              "      <td>59956.991984</td>\n",
              "      <td>покупка жилья для сдачи</td>\n",
              "    </tr>\n",
              "    <tr>\n",
              "      <th>14798</th>\n",
              "      <td>0</td>\n",
              "      <td>395302.838654</td>\n",
              "      <td>45</td>\n",
              "      <td>Высшее</td>\n",
              "      <td>0</td>\n",
              "      <td>гражданский брак</td>\n",
              "      <td>1</td>\n",
              "      <td>F</td>\n",
              "      <td>безработный</td>\n",
              "      <td>0</td>\n",
              "      <td>202722.511368</td>\n",
              "      <td>ремонт жилью</td>\n",
              "    </tr>\n",
              "  </tbody>\n",
              "</table>\n",
              "</div>"
            ],
            "text/plain": [
              "       children  days_employed  ...   total_income                  purpose\n",
              "3133          1  337524.466835  ...   59956.991984  покупка жилья для сдачи\n",
              "14798         0  395302.838654  ...  202722.511368             ремонт жилью\n",
              "\n",
              "[2 rows x 12 columns]"
            ]
          },
          "metadata": {},
          "execution_count": 15
        }
      ]
    },
    {
      "cell_type": "markdown",
      "metadata": {
        "id": "yE9L9TLsP7rM"
      },
      "source": [
        "Все значения больше нуля принадлежат пенсионерам или безработным, т.е. тем, кто не работает\n"
      ]
    },
    {
      "cell_type": "code",
      "metadata": {
        "colab": {
          "base_uri": "https://localhost:8080/"
        },
        "id": "l69HuJrKQEoj",
        "outputId": "d80778d8-c0c1-4cc7-fff4-19ca46d7369b"
      },
      "source": [
        "df[df['income_type'] == 'пенсионер']['income_type'].count()"
      ],
      "execution_count": 16,
      "outputs": [
        {
          "output_type": "execute_result",
          "data": {
            "text/plain": [
              "3856"
            ]
          },
          "metadata": {},
          "execution_count": 16
        }
      ]
    },
    {
      "cell_type": "code",
      "metadata": {
        "colab": {
          "base_uri": "https://localhost:8080/"
        },
        "id": "dUENQn-TQHMA",
        "outputId": "5c04346e-6e68-40ed-9c4b-ede2a510b9ed"
      },
      "source": [
        "df[(df['days_employed'].isna() == True) & (df['income_type'] == 'пенсионер')]['purpose'].count()"
      ],
      "execution_count": 17,
      "outputs": [
        {
          "output_type": "execute_result",
          "data": {
            "text/plain": [
              "413"
            ]
          },
          "metadata": {},
          "execution_count": 17
        }
      ]
    },
    {
      "cell_type": "markdown",
      "metadata": {
        "id": "eblfGPDJQN1H"
      },
      "source": [
        "Пенсионеры имеют \"days_employed\" либо больше нуля, либо не имеют вовсе"
      ]
    },
    {
      "cell_type": "code",
      "metadata": {
        "colab": {
          "base_uri": "https://localhost:8080/"
        },
        "id": "JHVOXwp4QIQ9",
        "outputId": "8944e606-36c1-4038-87a4-6f46079f76d8"
      },
      "source": [
        "df[df['income_type'] == 'пенсионер']['days_employed'].mean()"
      ],
      "execution_count": 18,
      "outputs": [
        {
          "output_type": "execute_result",
          "data": {
            "text/plain": [
              "365003.49124486075"
            ]
          },
          "metadata": {},
          "execution_count": 18
        }
      ]
    },
    {
      "cell_type": "code",
      "metadata": {
        "colab": {
          "base_uri": "https://localhost:8080/"
        },
        "id": "n7q868dzQwi_",
        "outputId": "ec09823a-4038-40d2-89d5-96e99ab7f419"
      },
      "source": [
        "df[df['income_type'] == 'пенсионер']['dob_years'].mean()"
      ],
      "execution_count": 19,
      "outputs": [
        {
          "output_type": "execute_result",
          "data": {
            "text/plain": [
              "59.06301867219917"
            ]
          },
          "metadata": {},
          "execution_count": 19
        }
      ]
    },
    {
      "cell_type": "code",
      "metadata": {
        "colab": {
          "base_uri": "https://localhost:8080/"
        },
        "id": "EVmbySJ-Q4_H",
        "outputId": "e1ac5d44-f259-4ee8-dc78-ac441bad81a3"
      },
      "source": [
        "df[df['income_type'] == 'пенсионер']['days_employed'].mean() / 24 / 365.25"
      ],
      "execution_count": 20,
      "outputs": [
        {
          "output_type": "execute_result",
          "data": {
            "text/plain": [
              "41.638545658779464"
            ]
          },
          "metadata": {},
          "execution_count": 20
        }
      ]
    },
    {
      "cell_type": "markdown",
      "metadata": {
        "id": "bhRKd4JPQ7vW"
      },
      "source": [
        "Если предположить, что days_employed > 0 это значения в часах, то в среднем люди работали 24 часа на протяжении 41 года с 18 лет, что невозожно.  \n",
        "Не будем использовать столбец days_employed из-за аномалных значений"
      ]
    },
    {
      "cell_type": "markdown",
      "metadata": {
        "id": "YGmNIwNnRYY_"
      },
      "source": [
        "Обработка dob_years\n"
      ]
    },
    {
      "cell_type": "code",
      "metadata": {
        "colab": {
          "base_uri": "https://localhost:8080/"
        },
        "id": "iRmsQzrsRWmQ",
        "outputId": "ede8e55f-68d9-47fd-837c-15f13c537283"
      },
      "source": [
        "df['dob_years'].value_counts().sort_index().head(10)"
      ],
      "execution_count": 21,
      "outputs": [
        {
          "output_type": "execute_result",
          "data": {
            "text/plain": [
              "0     101\n",
              "19     14\n",
              "20     51\n",
              "21    111\n",
              "22    183\n",
              "23    254\n",
              "24    264\n",
              "25    357\n",
              "26    408\n",
              "27    493\n",
              "Name: dob_years, dtype: int64"
            ]
          },
          "metadata": {},
          "execution_count": 21
        }
      ]
    },
    {
      "cell_type": "markdown",
      "metadata": {
        "id": "gLp_r7JgRwGh"
      },
      "source": [
        "Удалим аномальное значение 0 лет"
      ]
    },
    {
      "cell_type": "code",
      "metadata": {
        "id": "t81iXeA4R3vz"
      },
      "source": [
        "df = df.query('dob_years != 0')"
      ],
      "execution_count": 22,
      "outputs": []
    },
    {
      "cell_type": "markdown",
      "metadata": {
        "id": "tR6zn0i_Sfqg"
      },
      "source": [
        "Приведение \"education\" к строчным буквам\n"
      ]
    },
    {
      "cell_type": "code",
      "metadata": {
        "colab": {
          "base_uri": "https://localhost:8080/"
        },
        "id": "IVkS7sPsSggU",
        "outputId": "58aacdd9-911c-452a-a2d8-544fb63f7aad"
      },
      "source": [
        "df.loc[:, 'education'] = df['education'].str.lower()"
      ],
      "execution_count": 23,
      "outputs": [
        {
          "output_type": "stream",
          "name": "stderr",
          "text": [
            "/usr/local/lib/python3.7/dist-packages/pandas/core/indexing.py:1743: SettingWithCopyWarning: \n",
            "A value is trying to be set on a copy of a slice from a DataFrame.\n",
            "Try using .loc[row_indexer,col_indexer] = value instead\n",
            "\n",
            "See the caveats in the documentation: https://pandas.pydata.org/pandas-docs/stable/user_guide/indexing.html#returning-a-view-versus-a-copy\n",
            "  isetter(ilocs[0], value)\n"
          ]
        }
      ]
    },
    {
      "cell_type": "code",
      "metadata": {
        "colab": {
          "base_uri": "https://localhost:8080/"
        },
        "id": "4nN2ngS5Sqex",
        "outputId": "1e462918-066e-4fa8-c085-93f195704acd"
      },
      "source": [
        "df.loc[:, 'education']"
      ],
      "execution_count": 24,
      "outputs": [
        {
          "output_type": "execute_result",
          "data": {
            "text/plain": [
              "0         высшее\n",
              "1        среднее\n",
              "2        среднее\n",
              "3        среднее\n",
              "4        среднее\n",
              "          ...   \n",
              "21520    среднее\n",
              "21521    среднее\n",
              "21522    среднее\n",
              "21523    среднее\n",
              "21524    среднее\n",
              "Name: education, Length: 21424, dtype: object"
            ]
          },
          "metadata": {},
          "execution_count": 24
        }
      ]
    },
    {
      "cell_type": "markdown",
      "metadata": {
        "id": "_vRPx1XxSUCy"
      },
      "source": [
        "Обработка gender"
      ]
    },
    {
      "cell_type": "code",
      "metadata": {
        "colab": {
          "base_uri": "https://localhost:8080/"
        },
        "id": "2LU1167jSTE8",
        "outputId": "b4f86f4d-75f8-417b-bfd4-4ef81a3fa464"
      },
      "source": [
        "df['gender'].value_counts()"
      ],
      "execution_count": 25,
      "outputs": [
        {
          "output_type": "execute_result",
          "data": {
            "text/plain": [
              "F      14164\n",
              "M       7259\n",
              "XNA        1\n",
              "Name: gender, dtype: int64"
            ]
          },
          "metadata": {},
          "execution_count": 25
        }
      ]
    },
    {
      "cell_type": "markdown",
      "metadata": {
        "id": "p5T6yEGqUTeh"
      },
      "source": [
        "Женщин в 2 раза больше чем мужчин.  \n",
        "Удалим значение XNA"
      ]
    },
    {
      "cell_type": "code",
      "metadata": {
        "id": "BGLYfqW7UgOb"
      },
      "source": [
        "df = df.query('gender != \"XNA\"')"
      ],
      "execution_count": 26,
      "outputs": []
    },
    {
      "cell_type": "markdown",
      "metadata": {
        "id": "vOaqwTXnVVT9"
      },
      "source": [
        "**Вывод**"
      ]
    },
    {
      "cell_type": "markdown",
      "metadata": {
        "id": "KRoO3rqkVWX2"
      },
      "source": [
        "- Пропуски в days_employed и total_income взаимосвязанны\n",
        "- Обнаружены артефакты в children, days_employed, dob_years, gender\n",
        "- Замена на строчные буквы в education\n",
        "- Женщин в 2 раза больше мужчин"
      ]
    },
    {
      "cell_type": "code",
      "metadata": {
        "colab": {
          "base_uri": "https://localhost:8080/"
        },
        "id": "ryh5Dhzea2OJ",
        "outputId": "a687f7c2-c621-40a7-f548-52a4cf938334"
      },
      "source": [
        "!wget http://download.cdn.yandex.net/mystem/mystem-3.0-linux3.1-64bit.tar.gz\n",
        "!tar -xvf mystem-3.0-linux3.1-64bit.tar.gz"
      ],
      "execution_count": 27,
      "outputs": [
        {
          "output_type": "stream",
          "name": "stdout",
          "text": [
            "--2021-11-21 14:05:58--  http://download.cdn.yandex.net/mystem/mystem-3.0-linux3.1-64bit.tar.gz\n",
            "Resolving download.cdn.yandex.net (download.cdn.yandex.net)... 5.45.205.241, 5.45.205.244, 5.45.205.242, ...\n",
            "Connecting to download.cdn.yandex.net (download.cdn.yandex.net)|5.45.205.241|:80... connected.\n",
            "HTTP request sent, awaiting response... 302 Found\n",
            "Location: http://cache-man01i.cdn.yandex.net/download.cdn.yandex.net/mystem/mystem-3.0-linux3.1-64bit.tar.gz [following]\n",
            "--2021-11-21 14:05:59--  http://cache-man01i.cdn.yandex.net/download.cdn.yandex.net/mystem/mystem-3.0-linux3.1-64bit.tar.gz\n",
            "Resolving cache-man01i.cdn.yandex.net (cache-man01i.cdn.yandex.net)... 5.45.205.221, 2a02:6b8::3:221\n",
            "Connecting to cache-man01i.cdn.yandex.net (cache-man01i.cdn.yandex.net)|5.45.205.221|:80... connected.\n",
            "HTTP request sent, awaiting response... 200 OK\n",
            "Length: 16457938 (16M) [application/octet-stream]\n",
            "Saving to: ‘mystem-3.0-linux3.1-64bit.tar.gz.4’\n",
            "\n",
            "mystem-3.0-linux3.1 100%[===================>]  15.70M  6.70MB/s    in 2.3s    \n",
            "\n",
            "2021-11-21 14:06:02 (6.70 MB/s) - ‘mystem-3.0-linux3.1-64bit.tar.gz.4’ saved [16457938/16457938]\n",
            "\n",
            "mystem\n"
          ]
        }
      ]
    },
    {
      "cell_type": "markdown",
      "metadata": {
        "id": "S7WCOB-4OSn2"
      },
      "source": [
        "В этом месте иногда приходится перезапускать"
      ]
    },
    {
      "cell_type": "code",
      "metadata": {
        "id": "_sRc0qvezZt6"
      },
      "source": [
        "!cp mystem /root/.local/bin/mystem"
      ],
      "execution_count": 28,
      "outputs": []
    },
    {
      "cell_type": "code",
      "metadata": {
        "id": "VYFkHAGmbzSK"
      },
      "source": [
        "from pymystem3 import Mystem\n",
        "m = Mystem()"
      ],
      "execution_count": 29,
      "outputs": []
    },
    {
      "cell_type": "code",
      "metadata": {
        "id": "RsbK3qSfbvku"
      },
      "source": [
        "unique = ' '.join(df['purpose'].unique())"
      ],
      "execution_count": 30,
      "outputs": []
    },
    {
      "cell_type": "code",
      "metadata": {
        "id": "l3-eO-hScOfa"
      },
      "source": [
        "lemmas = m.lemmatize(unique)"
      ],
      "execution_count": 31,
      "outputs": []
    },
    {
      "cell_type": "code",
      "metadata": {
        "colab": {
          "base_uri": "https://localhost:8080/"
        },
        "id": "SEFUwkOgcS5K",
        "outputId": "b6b0eadc-d729-4e87-859e-f9a65ec7b53a"
      },
      "source": [
        "from collections import Counter\n",
        "print(Counter(lemmas)) "
      ],
      "execution_count": 32,
      "outputs": [
        {
          "output_type": "stream",
          "name": "stdout",
          "text": [
            "Counter({' ': 96, 'покупка': 10, 'недвижимость': 10, 'автомобиль': 9, 'образование': 9, 'жилье': 7, 'с': 5, 'операция': 4, 'на': 4, 'свой': 4, 'свадьба': 3, 'строительство': 3, 'получение': 3, 'высокий': 3, 'дополнительный': 2, 'для': 2, 'коммерческий': 2, 'жилой': 2, 'подержать': 2, 'заниматься': 2, 'сделка': 2, 'приобретение': 1, 'сыграть': 1, 'проведение': 1, 'семья': 1, 'собственный': 1, 'со': 1, 'профильный': 1, 'сдача': 1, 'ремонт': 1, '\\n': 1})\n"
          ]
        }
      ]
    },
    {
      "cell_type": "code",
      "metadata": {
        "id": "dfXNIzetcVaz"
      },
      "source": [
        "def replace(row):\n",
        "    purpose = row['purpose']\n",
        "  \n",
        "    lemmas = m.lemmatize(purpose)\n",
        "    if ('жилье' in lemmas) or ('недвижимость' in lemmas):\n",
        "        return 'на недвижимость'\n",
        "    if 'автомобиль' in lemmas:\n",
        "        return 'на автомобиль'\n",
        "    if 'образование' in lemmas:\n",
        "        return 'на образование'\n",
        "    if 'свадьба' in lemmas:\n",
        "        return 'на свадьбу'"
      ],
      "execution_count": 33,
      "outputs": []
    },
    {
      "cell_type": "code",
      "metadata": {
        "id": "TIXG4oZIceOE"
      },
      "source": [
        "df['purpose'] = df.apply(replace, axis=1)"
      ],
      "execution_count": 34,
      "outputs": []
    },
    {
      "cell_type": "code",
      "metadata": {
        "colab": {
          "base_uri": "https://localhost:8080/"
        },
        "id": "sFjOkelociep",
        "outputId": "8cbb4c9c-bde8-4c57-c1f0-b39d78554eb2"
      },
      "source": [
        "df['purpose'].count()"
      ],
      "execution_count": 35,
      "outputs": [
        {
          "output_type": "execute_result",
          "data": {
            "text/plain": [
              "21423"
            ]
          },
          "metadata": {},
          "execution_count": 35
        }
      ]
    },
    {
      "cell_type": "code",
      "metadata": {
        "id": "c0uBfs0Dda9-"
      },
      "source": [
        "def id(row):\n",
        "  if row == 'на недвижимость':\n",
        "    return 0\n",
        "  if row == 'на автомобиль':\n",
        "    return 1\n",
        "  if row == 'на образование':\n",
        "    return 2\n",
        "  return 3"
      ],
      "execution_count": 36,
      "outputs": []
    },
    {
      "cell_type": "code",
      "metadata": {
        "id": "lBwAEhhrcmZ0"
      },
      "source": [
        "df['purpose_id'] = df['purpose'].apply(id)"
      ],
      "execution_count": 37,
      "outputs": []
    },
    {
      "cell_type": "code",
      "metadata": {
        "id": "HBfl6OoggEex"
      },
      "source": [
        "def f_gen_id(row):\n",
        "  if row == 'F':\n",
        "    return 0\n",
        "  return 1"
      ],
      "execution_count": 38,
      "outputs": []
    },
    {
      "cell_type": "code",
      "metadata": {
        "id": "_FIQQ-uqgdMp"
      },
      "source": [
        "df['gender_id'] = df['gender'].apply(f_gen_id)"
      ],
      "execution_count": 39,
      "outputs": []
    },
    {
      "cell_type": "code",
      "metadata": {
        "colab": {
          "base_uri": "https://localhost:8080/",
          "height": 293
        },
        "id": "sQ7n4oROdI1J",
        "outputId": "db774b19-d914-4d2d-ef06-ad0b7db1e114"
      },
      "source": [
        "df.head(5)"
      ],
      "execution_count": 40,
      "outputs": [
        {
          "output_type": "execute_result",
          "data": {
            "text/html": [
              "<div>\n",
              "<style scoped>\n",
              "    .dataframe tbody tr th:only-of-type {\n",
              "        vertical-align: middle;\n",
              "    }\n",
              "\n",
              "    .dataframe tbody tr th {\n",
              "        vertical-align: top;\n",
              "    }\n",
              "\n",
              "    .dataframe thead th {\n",
              "        text-align: right;\n",
              "    }\n",
              "</style>\n",
              "<table border=\"1\" class=\"dataframe\">\n",
              "  <thead>\n",
              "    <tr style=\"text-align: right;\">\n",
              "      <th></th>\n",
              "      <th>children</th>\n",
              "      <th>days_employed</th>\n",
              "      <th>dob_years</th>\n",
              "      <th>education</th>\n",
              "      <th>education_id</th>\n",
              "      <th>family_status</th>\n",
              "      <th>family_status_id</th>\n",
              "      <th>gender</th>\n",
              "      <th>income_type</th>\n",
              "      <th>debt</th>\n",
              "      <th>total_income</th>\n",
              "      <th>purpose</th>\n",
              "      <th>purpose_id</th>\n",
              "      <th>gender_id</th>\n",
              "    </tr>\n",
              "  </thead>\n",
              "  <tbody>\n",
              "    <tr>\n",
              "      <th>0</th>\n",
              "      <td>1</td>\n",
              "      <td>-8437.673028</td>\n",
              "      <td>42</td>\n",
              "      <td>высшее</td>\n",
              "      <td>0</td>\n",
              "      <td>женат / замужем</td>\n",
              "      <td>0</td>\n",
              "      <td>F</td>\n",
              "      <td>сотрудник</td>\n",
              "      <td>0</td>\n",
              "      <td>253875.639453</td>\n",
              "      <td>на недвижимость</td>\n",
              "      <td>0</td>\n",
              "      <td>0</td>\n",
              "    </tr>\n",
              "    <tr>\n",
              "      <th>1</th>\n",
              "      <td>1</td>\n",
              "      <td>-4024.803754</td>\n",
              "      <td>36</td>\n",
              "      <td>среднее</td>\n",
              "      <td>1</td>\n",
              "      <td>женат / замужем</td>\n",
              "      <td>0</td>\n",
              "      <td>F</td>\n",
              "      <td>сотрудник</td>\n",
              "      <td>0</td>\n",
              "      <td>112080.014102</td>\n",
              "      <td>на автомобиль</td>\n",
              "      <td>1</td>\n",
              "      <td>0</td>\n",
              "    </tr>\n",
              "    <tr>\n",
              "      <th>2</th>\n",
              "      <td>0</td>\n",
              "      <td>-5623.422610</td>\n",
              "      <td>33</td>\n",
              "      <td>среднее</td>\n",
              "      <td>1</td>\n",
              "      <td>женат / замужем</td>\n",
              "      <td>0</td>\n",
              "      <td>M</td>\n",
              "      <td>сотрудник</td>\n",
              "      <td>0</td>\n",
              "      <td>145885.952297</td>\n",
              "      <td>на недвижимость</td>\n",
              "      <td>0</td>\n",
              "      <td>1</td>\n",
              "    </tr>\n",
              "    <tr>\n",
              "      <th>3</th>\n",
              "      <td>3</td>\n",
              "      <td>-4124.747207</td>\n",
              "      <td>32</td>\n",
              "      <td>среднее</td>\n",
              "      <td>1</td>\n",
              "      <td>женат / замужем</td>\n",
              "      <td>0</td>\n",
              "      <td>M</td>\n",
              "      <td>сотрудник</td>\n",
              "      <td>0</td>\n",
              "      <td>267628.550329</td>\n",
              "      <td>на образование</td>\n",
              "      <td>2</td>\n",
              "      <td>1</td>\n",
              "    </tr>\n",
              "    <tr>\n",
              "      <th>4</th>\n",
              "      <td>0</td>\n",
              "      <td>340266.072047</td>\n",
              "      <td>53</td>\n",
              "      <td>среднее</td>\n",
              "      <td>1</td>\n",
              "      <td>гражданский брак</td>\n",
              "      <td>1</td>\n",
              "      <td>F</td>\n",
              "      <td>пенсионер</td>\n",
              "      <td>0</td>\n",
              "      <td>158616.077870</td>\n",
              "      <td>на свадьбу</td>\n",
              "      <td>3</td>\n",
              "      <td>0</td>\n",
              "    </tr>\n",
              "  </tbody>\n",
              "</table>\n",
              "</div>"
            ],
            "text/plain": [
              "   children  days_employed  dob_years  ...          purpose  purpose_id gender_id\n",
              "0         1   -8437.673028         42  ...  на недвижимость           0         0\n",
              "1         1   -4024.803754         36  ...    на автомобиль           1         0\n",
              "2         0   -5623.422610         33  ...  на недвижимость           0         1\n",
              "3         3   -4124.747207         32  ...   на образование           2         1\n",
              "4         0  340266.072047         53  ...       на свадьбу           3         0\n",
              "\n",
              "[5 rows x 14 columns]"
            ]
          },
          "metadata": {},
          "execution_count": 40
        }
      ]
    },
    {
      "cell_type": "markdown",
      "metadata": {
        "id": "Oo8h_itCb3Rj"
      },
      "source": [
        "## Иерархическая кластеризация"
      ]
    },
    {
      "cell_type": "code",
      "metadata": {
        "id": "A--aPzcueorP"
      },
      "source": [
        "pre_df = df[['children', 'dob_years', 'education_id', 'family_status_id', 'gender_id', 'purpose_id', 'total_income']]"
      ],
      "execution_count": 41,
      "outputs": []
    },
    {
      "cell_type": "code",
      "metadata": {
        "id": "GjI8SYdASc0T"
      },
      "source": [
        "pre_df = pre_df.dropna()"
      ],
      "execution_count": 42,
      "outputs": []
    },
    {
      "cell_type": "code",
      "metadata": {
        "colab": {
          "base_uri": "https://localhost:8080/",
          "height": 206
        },
        "id": "TRWvWJM0W7SS",
        "outputId": "09cd59ae-ad26-4bf3-89a2-5c45cc3b296c"
      },
      "source": [
        "pre_df.head()"
      ],
      "execution_count": 43,
      "outputs": [
        {
          "output_type": "execute_result",
          "data": {
            "text/html": [
              "<div>\n",
              "<style scoped>\n",
              "    .dataframe tbody tr th:only-of-type {\n",
              "        vertical-align: middle;\n",
              "    }\n",
              "\n",
              "    .dataframe tbody tr th {\n",
              "        vertical-align: top;\n",
              "    }\n",
              "\n",
              "    .dataframe thead th {\n",
              "        text-align: right;\n",
              "    }\n",
              "</style>\n",
              "<table border=\"1\" class=\"dataframe\">\n",
              "  <thead>\n",
              "    <tr style=\"text-align: right;\">\n",
              "      <th></th>\n",
              "      <th>children</th>\n",
              "      <th>dob_years</th>\n",
              "      <th>education_id</th>\n",
              "      <th>family_status_id</th>\n",
              "      <th>gender_id</th>\n",
              "      <th>purpose_id</th>\n",
              "      <th>total_income</th>\n",
              "    </tr>\n",
              "  </thead>\n",
              "  <tbody>\n",
              "    <tr>\n",
              "      <th>0</th>\n",
              "      <td>1</td>\n",
              "      <td>42</td>\n",
              "      <td>0</td>\n",
              "      <td>0</td>\n",
              "      <td>0</td>\n",
              "      <td>0</td>\n",
              "      <td>253875.639453</td>\n",
              "    </tr>\n",
              "    <tr>\n",
              "      <th>1</th>\n",
              "      <td>1</td>\n",
              "      <td>36</td>\n",
              "      <td>1</td>\n",
              "      <td>0</td>\n",
              "      <td>0</td>\n",
              "      <td>1</td>\n",
              "      <td>112080.014102</td>\n",
              "    </tr>\n",
              "    <tr>\n",
              "      <th>2</th>\n",
              "      <td>0</td>\n",
              "      <td>33</td>\n",
              "      <td>1</td>\n",
              "      <td>0</td>\n",
              "      <td>1</td>\n",
              "      <td>0</td>\n",
              "      <td>145885.952297</td>\n",
              "    </tr>\n",
              "    <tr>\n",
              "      <th>3</th>\n",
              "      <td>3</td>\n",
              "      <td>32</td>\n",
              "      <td>1</td>\n",
              "      <td>0</td>\n",
              "      <td>1</td>\n",
              "      <td>2</td>\n",
              "      <td>267628.550329</td>\n",
              "    </tr>\n",
              "    <tr>\n",
              "      <th>4</th>\n",
              "      <td>0</td>\n",
              "      <td>53</td>\n",
              "      <td>1</td>\n",
              "      <td>1</td>\n",
              "      <td>0</td>\n",
              "      <td>3</td>\n",
              "      <td>158616.077870</td>\n",
              "    </tr>\n",
              "  </tbody>\n",
              "</table>\n",
              "</div>"
            ],
            "text/plain": [
              "   children  dob_years  education_id  ...  gender_id  purpose_id   total_income\n",
              "0         1         42             0  ...          0           0  253875.639453\n",
              "1         1         36             1  ...          0           1  112080.014102\n",
              "2         0         33             1  ...          1           0  145885.952297\n",
              "3         3         32             1  ...          1           2  267628.550329\n",
              "4         0         53             1  ...          0           3  158616.077870\n",
              "\n",
              "[5 rows x 7 columns]"
            ]
          },
          "metadata": {},
          "execution_count": 43
        }
      ]
    },
    {
      "cell_type": "markdown",
      "metadata": {
        "id": "VlnfYt0FXC0o"
      },
      "source": [
        "Нормализуем данные"
      ]
    },
    {
      "cell_type": "code",
      "metadata": {
        "id": "4pDL8dEJfFqx"
      },
      "source": [
        "normalized_df=(pre_df-pre_df.min())/(pre_df.max()-pre_df.min())"
      ],
      "execution_count": 44,
      "outputs": []
    },
    {
      "cell_type": "code",
      "metadata": {
        "id": "IswpIA6ih64b"
      },
      "source": [
        "from scipy.cluster.hierarchy import dendrogram, linkage, fcluster\n",
        "\n",
        "link = linkage(normalized_df, 'ward', 'euclidean')"
      ],
      "execution_count": 45,
      "outputs": []
    },
    {
      "cell_type": "code",
      "metadata": {
        "colab": {
          "base_uri": "https://localhost:8080/",
          "height": 267
        },
        "id": "K4uSqpp2jPxS",
        "outputId": "b3854d46-d1a4-4ff0-eab9-144e95a6e536"
      },
      "source": [
        "dn = dendrogram(link, orientation='right')"
      ],
      "execution_count": 46,
      "outputs": [
        {
          "output_type": "display_data",
          "data": {
            "image/png": "[encoded data removed]",
            "text/plain": [
              "<Figure size 432x288 with 1 Axes>"
            ]
          },
          "metadata": {
            "needs_background": "light"
          }
        }
      ]
    },
    {
      "cell_type": "markdown",
      "metadata": {
        "id": "eeKvMX8P6x5J"
      },
      "source": [
        "По дендрограмме можно выделить 11 кластеров"
      ]
    },
    {
      "cell_type": "code",
      "metadata": {
        "id": "ORW4OBcrkb7k"
      },
      "source": [
        "normalized_df['cluster'] = fcluster(link, 11, criterion='maxclust')"
      ],
      "execution_count": 47,
      "outputs": []
    },
    {
      "cell_type": "code",
      "metadata": {
        "colab": {
          "base_uri": "https://localhost:8080/",
          "height": 426
        },
        "id": "9gSAlDZc6dgn",
        "outputId": "6c2d1ed6-7fc3-4562-fcc3-f95d05af57df"
      },
      "source": [
        "normalized_df.groupby('cluster').mean()"
      ],
      "execution_count": 48,
      "outputs": [
        {
          "output_type": "execute_result",
          "data": {
            "text/html": [
              "<div>\n",
              "<style scoped>\n",
              "    .dataframe tbody tr th:only-of-type {\n",
              "        vertical-align: middle;\n",
              "    }\n",
              "\n",
              "    .dataframe tbody tr th {\n",
              "        vertical-align: top;\n",
              "    }\n",
              "\n",
              "    .dataframe thead th {\n",
              "        text-align: right;\n",
              "    }\n",
              "</style>\n",
              "<table border=\"1\" class=\"dataframe\">\n",
              "  <thead>\n",
              "    <tr style=\"text-align: right;\">\n",
              "      <th></th>\n",
              "      <th>children</th>\n",
              "      <th>dob_years</th>\n",
              "      <th>education_id</th>\n",
              "      <th>family_status_id</th>\n",
              "      <th>gender_id</th>\n",
              "      <th>purpose_id</th>\n",
              "      <th>total_income</th>\n",
              "    </tr>\n",
              "    <tr>\n",
              "      <th>cluster</th>\n",
              "      <th></th>\n",
              "      <th></th>\n",
              "      <th></th>\n",
              "      <th></th>\n",
              "      <th></th>\n",
              "      <th></th>\n",
              "      <th></th>\n",
              "    </tr>\n",
              "  </thead>\n",
              "  <tbody>\n",
              "    <tr>\n",
              "      <th>1</th>\n",
              "      <td>0.046240</td>\n",
              "      <td>0.307900</td>\n",
              "      <td>0.218400</td>\n",
              "      <td>0.938600</td>\n",
              "      <td>1.0</td>\n",
              "      <td>0.194400</td>\n",
              "      <td>0.071218</td>\n",
              "    </tr>\n",
              "    <tr>\n",
              "      <th>2</th>\n",
              "      <td>0.120583</td>\n",
              "      <td>0.415957</td>\n",
              "      <td>0.208796</td>\n",
              "      <td>0.027884</td>\n",
              "      <td>1.0</td>\n",
              "      <td>0.000383</td>\n",
              "      <td>0.078672</td>\n",
              "    </tr>\n",
              "    <tr>\n",
              "      <th>3</th>\n",
              "      <td>0.102209</td>\n",
              "      <td>0.397722</td>\n",
              "      <td>0.205081</td>\n",
              "      <td>0.250000</td>\n",
              "      <td>1.0</td>\n",
              "      <td>1.000000</td>\n",
              "      <td>0.075282</td>\n",
              "    </tr>\n",
              "    <tr>\n",
              "      <th>4</th>\n",
              "      <td>0.122282</td>\n",
              "      <td>0.423767</td>\n",
              "      <td>0.209911</td>\n",
              "      <td>0.028652</td>\n",
              "      <td>1.0</td>\n",
              "      <td>0.495163</td>\n",
              "      <td>0.078456</td>\n",
              "    </tr>\n",
              "    <tr>\n",
              "      <th>5</th>\n",
              "      <td>0.020575</td>\n",
              "      <td>0.650595</td>\n",
              "      <td>0.258065</td>\n",
              "      <td>0.419137</td>\n",
              "      <td>0.0</td>\n",
              "      <td>0.242081</td>\n",
              "      <td>0.054505</td>\n",
              "    </tr>\n",
              "    <tr>\n",
              "      <th>6</th>\n",
              "      <td>0.065849</td>\n",
              "      <td>0.438881</td>\n",
              "      <td>0.189151</td>\n",
              "      <td>0.905425</td>\n",
              "      <td>0.0</td>\n",
              "      <td>0.498113</td>\n",
              "      <td>0.061737</td>\n",
              "    </tr>\n",
              "    <tr>\n",
              "      <th>7</th>\n",
              "      <td>0.063783</td>\n",
              "      <td>0.439909</td>\n",
              "      <td>0.181268</td>\n",
              "      <td>0.893145</td>\n",
              "      <td>0.0</td>\n",
              "      <td>0.000733</td>\n",
              "      <td>0.064846</td>\n",
              "    </tr>\n",
              "    <tr>\n",
              "      <th>8</th>\n",
              "      <td>0.041276</td>\n",
              "      <td>0.575496</td>\n",
              "      <td>0.225969</td>\n",
              "      <td>0.009491</td>\n",
              "      <td>0.0</td>\n",
              "      <td>0.004577</td>\n",
              "      <td>0.059775</td>\n",
              "    </tr>\n",
              "    <tr>\n",
              "      <th>9</th>\n",
              "      <td>0.193210</td>\n",
              "      <td>0.264033</td>\n",
              "      <td>0.170369</td>\n",
              "      <td>0.046306</td>\n",
              "      <td>0.0</td>\n",
              "      <td>0.000000</td>\n",
              "      <td>0.059207</td>\n",
              "    </tr>\n",
              "    <tr>\n",
              "      <th>10</th>\n",
              "      <td>0.090143</td>\n",
              "      <td>0.451582</td>\n",
              "      <td>0.198036</td>\n",
              "      <td>0.250179</td>\n",
              "      <td>0.0</td>\n",
              "      <td>0.998571</td>\n",
              "      <td>0.058745</td>\n",
              "    </tr>\n",
              "    <tr>\n",
              "      <th>11</th>\n",
              "      <td>0.111427</td>\n",
              "      <td>0.436425</td>\n",
              "      <td>0.198039</td>\n",
              "      <td>0.023394</td>\n",
              "      <td>0.0</td>\n",
              "      <td>0.500000</td>\n",
              "      <td>0.058432</td>\n",
              "    </tr>\n",
              "  </tbody>\n",
              "</table>\n",
              "</div>"
            ],
            "text/plain": [
              "         children  dob_years  education_id  ...  gender_id  purpose_id  total_income\n",
              "cluster                                     ...                                     \n",
              "1        0.046240   0.307900      0.218400  ...        1.0    0.194400      0.071218\n",
              "2        0.120583   0.415957      0.208796  ...        1.0    0.000383      0.078672\n",
              "3        0.102209   0.397722      0.205081  ...        1.0    1.000000      0.075282\n",
              "4        0.122282   0.423767      0.209911  ...        1.0    0.495163      0.078456\n",
              "5        0.020575   0.650595      0.258065  ...        0.0    0.242081      0.054505\n",
              "6        0.065849   0.438881      0.189151  ...        0.0    0.498113      0.061737\n",
              "7        0.063783   0.439909      0.181268  ...        0.0    0.000733      0.064846\n",
              "8        0.041276   0.575496      0.225969  ...        0.0    0.004577      0.059775\n",
              "9        0.193210   0.264033      0.170369  ...        0.0    0.000000      0.059207\n",
              "10       0.090143   0.451582      0.198036  ...        0.0    0.998571      0.058745\n",
              "11       0.111427   0.436425      0.198039  ...        0.0    0.500000      0.058432\n",
              "\n",
              "[11 rows x 7 columns]"
            ]
          },
          "metadata": {},
          "execution_count": 48
        }
      ]
    },
    {
      "cell_type": "code",
      "metadata": {
        "id": "On0EF6jDhB6E"
      },
      "source": [
        "df = df.join(normalized_df['cluster'])"
      ],
      "execution_count": 49,
      "outputs": []
    },
    {
      "cell_type": "code",
      "metadata": {
        "colab": {
          "base_uri": "https://localhost:8080/",
          "height": 426
        },
        "id": "fxZcjrhT7pDS",
        "outputId": "de1a4e9a-988a-4062-801e-e11da421ad13"
      },
      "source": [
        "df.groupby('cluster').mean()"
      ],
      "execution_count": 50,
      "outputs": [
        {
          "output_type": "execute_result",
          "data": {
            "text/html": [
              "<div>\n",
              "<style scoped>\n",
              "    .dataframe tbody tr th:only-of-type {\n",
              "        vertical-align: middle;\n",
              "    }\n",
              "\n",
              "    .dataframe tbody tr th {\n",
              "        vertical-align: top;\n",
              "    }\n",
              "\n",
              "    .dataframe thead th {\n",
              "        text-align: right;\n",
              "    }\n",
              "</style>\n",
              "<table border=\"1\" class=\"dataframe\">\n",
              "  <thead>\n",
              "    <tr style=\"text-align: right;\">\n",
              "      <th></th>\n",
              "      <th>children</th>\n",
              "      <th>days_employed</th>\n",
              "      <th>dob_years</th>\n",
              "      <th>education_id</th>\n",
              "      <th>family_status_id</th>\n",
              "      <th>debt</th>\n",
              "      <th>total_income</th>\n",
              "      <th>purpose_id</th>\n",
              "      <th>gender_id</th>\n",
              "    </tr>\n",
              "    <tr>\n",
              "      <th>cluster</th>\n",
              "      <th></th>\n",
              "      <th></th>\n",
              "      <th></th>\n",
              "      <th></th>\n",
              "      <th></th>\n",
              "      <th></th>\n",
              "      <th></th>\n",
              "      <th></th>\n",
              "      <th></th>\n",
              "    </tr>\n",
              "  </thead>\n",
              "  <tbody>\n",
              "    <tr>\n",
              "      <th>1.0</th>\n",
              "      <td>0.231200</td>\n",
              "      <td>18590.350828</td>\n",
              "      <td>36.242400</td>\n",
              "      <td>0.873600</td>\n",
              "      <td>3.754400</td>\n",
              "      <td>0.141600</td>\n",
              "      <td>180546.302046</td>\n",
              "      <td>0.583200</td>\n",
              "      <td>1.0</td>\n",
              "    </tr>\n",
              "    <tr>\n",
              "      <th>2.0</th>\n",
              "      <td>0.602913</td>\n",
              "      <td>37151.187276</td>\n",
              "      <td>42.293599</td>\n",
              "      <td>0.835186</td>\n",
              "      <td>0.111537</td>\n",
              "      <td>0.086240</td>\n",
              "      <td>197280.783179</td>\n",
              "      <td>0.001150</td>\n",
              "      <td>1.0</td>\n",
              "    </tr>\n",
              "    <tr>\n",
              "      <th>3.0</th>\n",
              "      <td>0.511046</td>\n",
              "      <td>36538.002679</td>\n",
              "      <td>41.272459</td>\n",
              "      <td>0.820324</td>\n",
              "      <td>1.000000</td>\n",
              "      <td>0.092784</td>\n",
              "      <td>189671.225865</td>\n",
              "      <td>3.000000</td>\n",
              "      <td>1.0</td>\n",
              "    </tr>\n",
              "    <tr>\n",
              "      <th>4.0</th>\n",
              "      <td>0.611412</td>\n",
              "      <td>36438.678274</td>\n",
              "      <td>42.730939</td>\n",
              "      <td>0.839646</td>\n",
              "      <td>0.114609</td>\n",
              "      <td>0.102312</td>\n",
              "      <td>196795.996380</td>\n",
              "      <td>1.485489</td>\n",
              "      <td>1.0</td>\n",
              "    </tr>\n",
              "    <tr>\n",
              "      <th>5.0</th>\n",
              "      <td>0.102877</td>\n",
              "      <td>179749.559947</td>\n",
              "      <td>55.433304</td>\n",
              "      <td>1.032258</td>\n",
              "      <td>1.676548</td>\n",
              "      <td>0.061901</td>\n",
              "      <td>143026.907408</td>\n",
              "      <td>0.726242</td>\n",
              "      <td>0.0</td>\n",
              "    </tr>\n",
              "    <tr>\n",
              "      <th>6.0</th>\n",
              "      <td>0.329245</td>\n",
              "      <td>75066.303096</td>\n",
              "      <td>43.577358</td>\n",
              "      <td>0.756604</td>\n",
              "      <td>3.621698</td>\n",
              "      <td>0.072642</td>\n",
              "      <td>159261.928137</td>\n",
              "      <td>1.494340</td>\n",
              "      <td>0.0</td>\n",
              "    </tr>\n",
              "    <tr>\n",
              "      <th>7.0</th>\n",
              "      <td>0.318915</td>\n",
              "      <td>69719.274762</td>\n",
              "      <td>43.634897</td>\n",
              "      <td>0.725073</td>\n",
              "      <td>3.572581</td>\n",
              "      <td>0.061584</td>\n",
              "      <td>166242.340068</td>\n",
              "      <td>0.002199</td>\n",
              "      <td>0.0</td>\n",
              "    </tr>\n",
              "    <tr>\n",
              "      <th>8.0</th>\n",
              "      <td>0.206381</td>\n",
              "      <td>116048.370459</td>\n",
              "      <td>51.227787</td>\n",
              "      <td>0.903877</td>\n",
              "      <td>0.037964</td>\n",
              "      <td>0.052100</td>\n",
              "      <td>154858.348646</td>\n",
              "      <td>0.013732</td>\n",
              "      <td>0.0</td>\n",
              "    </tr>\n",
              "    <tr>\n",
              "      <th>9.0</th>\n",
              "      <td>0.966051</td>\n",
              "      <td>-339.269333</td>\n",
              "      <td>33.785821</td>\n",
              "      <td>0.681478</td>\n",
              "      <td>0.185222</td>\n",
              "      <td>0.084373</td>\n",
              "      <td>153582.169289</td>\n",
              "      <td>0.000000</td>\n",
              "      <td>0.0</td>\n",
              "    </tr>\n",
              "    <tr>\n",
              "      <th>10.0</th>\n",
              "      <td>0.450714</td>\n",
              "      <td>74679.261970</td>\n",
              "      <td>44.288571</td>\n",
              "      <td>0.792143</td>\n",
              "      <td>1.000714</td>\n",
              "      <td>0.067143</td>\n",
              "      <td>152545.608549</td>\n",
              "      <td>2.995714</td>\n",
              "      <td>0.0</td>\n",
              "    </tr>\n",
              "    <tr>\n",
              "      <th>11.0</th>\n",
              "      <td>0.557134</td>\n",
              "      <td>68842.807027</td>\n",
              "      <td>43.439778</td>\n",
              "      <td>0.792156</td>\n",
              "      <td>0.093576</td>\n",
              "      <td>0.082149</td>\n",
              "      <td>151844.527563</td>\n",
              "      <td>1.500000</td>\n",
              "      <td>0.0</td>\n",
              "    </tr>\n",
              "  </tbody>\n",
              "</table>\n",
              "</div>"
            ],
            "text/plain": [
              "         children  days_employed  ...  purpose_id  gender_id\n",
              "cluster                           ...                       \n",
              "1.0      0.231200   18590.350828  ...    0.583200        1.0\n",
              "2.0      0.602913   37151.187276  ...    0.001150        1.0\n",
              "3.0      0.511046   36538.002679  ...    3.000000        1.0\n",
              "4.0      0.611412   36438.678274  ...    1.485489        1.0\n",
              "5.0      0.102877  179749.559947  ...    0.726242        0.0\n",
              "6.0      0.329245   75066.303096  ...    1.494340        0.0\n",
              "7.0      0.318915   69719.274762  ...    0.002199        0.0\n",
              "8.0      0.206381  116048.370459  ...    0.013732        0.0\n",
              "9.0      0.966051    -339.269333  ...    0.000000        0.0\n",
              "10.0     0.450714   74679.261970  ...    2.995714        0.0\n",
              "11.0     0.557134   68842.807027  ...    1.500000        0.0\n",
              "\n",
              "[11 rows x 9 columns]"
            ]
          },
          "metadata": {},
          "execution_count": 50
        }
      ]
    },
    {
      "cell_type": "code",
      "metadata": {
        "colab": {
          "base_uri": "https://localhost:8080/",
          "height": 313
        },
        "id": "fgZy1IT9Ugn_",
        "outputId": "0fdb4e1a-dc08-43f2-e6b9-1169ea8a7ce9"
      },
      "source": [
        "df.head()"
      ],
      "execution_count": 51,
      "outputs": [
        {
          "output_type": "execute_result",
          "data": {
            "text/html": [
              "<div>\n",
              "<style scoped>\n",
              "    .dataframe tbody tr th:only-of-type {\n",
              "        vertical-align: middle;\n",
              "    }\n",
              "\n",
              "    .dataframe tbody tr th {\n",
              "        vertical-align: top;\n",
              "    }\n",
              "\n",
              "    .dataframe thead th {\n",
              "        text-align: right;\n",
              "    }\n",
              "</style>\n",
              "<table border=\"1\" class=\"dataframe\">\n",
              "  <thead>\n",
              "    <tr style=\"text-align: right;\">\n",
              "      <th></th>\n",
              "      <th>children</th>\n",
              "      <th>days_employed</th>\n",
              "      <th>dob_years</th>\n",
              "      <th>education</th>\n",
              "      <th>education_id</th>\n",
              "      <th>family_status</th>\n",
              "      <th>family_status_id</th>\n",
              "      <th>gender</th>\n",
              "      <th>income_type</th>\n",
              "      <th>debt</th>\n",
              "      <th>total_income</th>\n",
              "      <th>purpose</th>\n",
              "      <th>purpose_id</th>\n",
              "      <th>gender_id</th>\n",
              "      <th>cluster</th>\n",
              "    </tr>\n",
              "  </thead>\n",
              "  <tbody>\n",
              "    <tr>\n",
              "      <th>0</th>\n",
              "      <td>1</td>\n",
              "      <td>-8437.673028</td>\n",
              "      <td>42</td>\n",
              "      <td>высшее</td>\n",
              "      <td>0</td>\n",
              "      <td>женат / замужем</td>\n",
              "      <td>0</td>\n",
              "      <td>F</td>\n",
              "      <td>сотрудник</td>\n",
              "      <td>0</td>\n",
              "      <td>253875.639453</td>\n",
              "      <td>на недвижимость</td>\n",
              "      <td>0</td>\n",
              "      <td>0</td>\n",
              "      <td>9.0</td>\n",
              "    </tr>\n",
              "    <tr>\n",
              "      <th>1</th>\n",
              "      <td>1</td>\n",
              "      <td>-4024.803754</td>\n",
              "      <td>36</td>\n",
              "      <td>среднее</td>\n",
              "      <td>1</td>\n",
              "      <td>женат / замужем</td>\n",
              "      <td>0</td>\n",
              "      <td>F</td>\n",
              "      <td>сотрудник</td>\n",
              "      <td>0</td>\n",
              "      <td>112080.014102</td>\n",
              "      <td>на автомобиль</td>\n",
              "      <td>1</td>\n",
              "      <td>0</td>\n",
              "      <td>11.0</td>\n",
              "    </tr>\n",
              "    <tr>\n",
              "      <th>2</th>\n",
              "      <td>0</td>\n",
              "      <td>-5623.422610</td>\n",
              "      <td>33</td>\n",
              "      <td>среднее</td>\n",
              "      <td>1</td>\n",
              "      <td>женат / замужем</td>\n",
              "      <td>0</td>\n",
              "      <td>M</td>\n",
              "      <td>сотрудник</td>\n",
              "      <td>0</td>\n",
              "      <td>145885.952297</td>\n",
              "      <td>на недвижимость</td>\n",
              "      <td>0</td>\n",
              "      <td>1</td>\n",
              "      <td>2.0</td>\n",
              "    </tr>\n",
              "    <tr>\n",
              "      <th>3</th>\n",
              "      <td>3</td>\n",
              "      <td>-4124.747207</td>\n",
              "      <td>32</td>\n",
              "      <td>среднее</td>\n",
              "      <td>1</td>\n",
              "      <td>женат / замужем</td>\n",
              "      <td>0</td>\n",
              "      <td>M</td>\n",
              "      <td>сотрудник</td>\n",
              "      <td>0</td>\n",
              "      <td>267628.550329</td>\n",
              "      <td>на образование</td>\n",
              "      <td>2</td>\n",
              "      <td>1</td>\n",
              "      <td>4.0</td>\n",
              "    </tr>\n",
              "    <tr>\n",
              "      <th>4</th>\n",
              "      <td>0</td>\n",
              "      <td>340266.072047</td>\n",
              "      <td>53</td>\n",
              "      <td>среднее</td>\n",
              "      <td>1</td>\n",
              "      <td>гражданский брак</td>\n",
              "      <td>1</td>\n",
              "      <td>F</td>\n",
              "      <td>пенсионер</td>\n",
              "      <td>0</td>\n",
              "      <td>158616.077870</td>\n",
              "      <td>на свадьбу</td>\n",
              "      <td>3</td>\n",
              "      <td>0</td>\n",
              "      <td>10.0</td>\n",
              "    </tr>\n",
              "  </tbody>\n",
              "</table>\n",
              "</div>"
            ],
            "text/plain": [
              "   children  days_employed  dob_years  ... purpose_id  gender_id cluster\n",
              "0         1   -8437.673028         42  ...          0          0     9.0\n",
              "1         1   -4024.803754         36  ...          1          0    11.0\n",
              "2         0   -5623.422610         33  ...          0          1     2.0\n",
              "3         3   -4124.747207         32  ...          2          1     4.0\n",
              "4         0  340266.072047         53  ...          3          0    10.0\n",
              "\n",
              "[5 rows x 15 columns]"
            ]
          },
          "metadata": {},
          "execution_count": 51
        }
      ]
    },
    {
      "cell_type": "code",
      "metadata": {
        "colab": {
          "base_uri": "https://localhost:8080/"
        },
        "id": "eZ2ZkVVGS-lA",
        "outputId": "4f04e8ca-3380-4fe4-9c58-b4e2a80bb802"
      },
      "source": [
        "for i, data in df.groupby('cluster'):\n",
        "  print('Кластер', i)\n",
        "  print()\n",
        "  print(\"Количество детей \\n\", data['children'].value_counts() / data['children'].value_counts().sum())\n",
        "  print()\n",
        "  print(f\"Средний возраст: {data['dob_years'].mean():.0f}\")\n",
        "  print()\n",
        "  print(\"Образование \\n\", data['education'].value_counts() / data['education'].value_counts().sum())\n",
        "  print()\n",
        "  print(\"Семейное положение \\n\", data['family_status'].value_counts() / data['family_status'].value_counts().sum())\n",
        "  print()\n",
        "  print(\"Пол \\n\", data['gender'].value_counts())\n",
        "  print()\n",
        "  print(f\"Средний доход: {data['total_income'].mean()}\")\n",
        "  print()\n",
        "  print(\"Цель получения кредита \\n\", data['purpose'].value_counts() / data['purpose'].value_counts().sum())\n",
        "  print()\n",
        "  print(f\"Процент просрочек: {data['debt'].mean():.2%}\")\n",
        "  print()"
      ],
      "execution_count": 52,
      "outputs": [
        {
          "output_type": "stream",
          "name": "stdout",
          "text": [
            "Кластер 1.0\n",
            "\n",
            "Количество детей \n",
            " 0    0.8096\n",
            "1    0.1520\n",
            "2    0.0360\n",
            "3    0.0024\n",
            "Name: children, dtype: float64\n",
            "\n",
            "Средний возраст: 36\n",
            "\n",
            "Образование \n",
            " среднее                0.6512\n",
            "высшее                 0.2504\n",
            "неоконченное высшее    0.0744\n",
            "начальное              0.0224\n",
            "ученая степень         0.0016\n",
            "Name: education, dtype: float64\n",
            "\n",
            "Семейное положение \n",
            " Не женат / не замужем    0.7816\n",
            "в разводе                0.1912\n",
            "вдовец / вдова           0.0272\n",
            "Name: family_status, dtype: float64\n",
            "\n",
            "Пол \n",
            " M    1250\n",
            "Name: gender, dtype: int64\n",
            "\n",
            "Средний доход: 180546.30204622677\n",
            "\n",
            "Цель получения кредита \n",
            " на недвижимость    0.6008\n",
            "на автомобиль      0.2152\n",
            "на образование     0.1840\n",
            "Name: purpose, dtype: float64\n",
            "\n",
            "Процент просрочек: 14.16%\n",
            "\n",
            "Кластер 2.0\n",
            "\n",
            "Количество детей \n",
            " 0    0.579149\n",
            "1    0.265236\n",
            "2    0.132235\n",
            "3    0.020698\n",
            "4    0.002300\n",
            "5    0.000383\n",
            "Name: children, dtype: float64\n",
            "\n",
            "Средний возраст: 42\n",
            "\n",
            "Образование \n",
            " среднее                0.729015\n",
            "высшее                 0.226140\n",
            "неоконченное высшее    0.028747\n",
            "начальное              0.015715\n",
            "ученая степень         0.000383\n",
            "Name: education, dtype: float64\n",
            "\n",
            "Семейное положение \n",
            " женат / замужем     0.891529\n",
            "гражданский брак    0.105404\n",
            "вдовец / вдова      0.003066\n",
            "Name: family_status, dtype: float64\n",
            "\n",
            "Пол \n",
            " M    2609\n",
            "Name: gender, dtype: int64\n",
            "\n",
            "Средний доход: 197280.78317928585\n",
            "\n",
            "Цель получения кредита \n",
            " на недвижимость    0.99885\n",
            "на автомобиль      0.00115\n",
            "Name: purpose, dtype: float64\n",
            "\n",
            "Процент просрочек: 8.62%\n",
            "\n",
            "Кластер 3.0\n",
            "\n",
            "Количество детей \n",
            " 0    0.618557\n",
            "1    0.266568\n",
            "2    0.100147\n",
            "3    0.014728\n",
            "Name: children, dtype: float64\n",
            "\n",
            "Средний возраст: 41\n",
            "\n",
            "Образование \n",
            " среднее                0.699558\n",
            "высшее                 0.245950\n",
            "неоконченное высшее    0.042710\n",
            "начальное              0.011782\n",
            "Name: education, dtype: float64\n",
            "\n",
            "Семейное положение \n",
            " гражданский брак    1.0\n",
            "Name: family_status, dtype: float64\n",
            "\n",
            "Пол \n",
            " M    679\n",
            "Name: gender, dtype: int64\n",
            "\n",
            "Средний доход: 189671.22586493622\n",
            "\n",
            "Цель получения кредита \n",
            " на свадьбу    1.0\n",
            "Name: purpose, dtype: float64\n",
            "\n",
            "Процент просрочек: 9.28%\n",
            "\n",
            "Кластер 4.0\n",
            "\n",
            "Количество детей \n",
            " 0    0.579931\n",
            "1    0.255780\n",
            "2    0.139203\n",
            "3    0.023119\n",
            "4    0.001968\n",
            "Name: children, dtype: float64\n",
            "\n",
            "Средний возраст: 43\n",
            "\n",
            "Образование \n",
            " среднее                0.726513\n",
            "высшее                 0.226267\n",
            "неоконченное высшее    0.029021\n",
            "начальное              0.017708\n",
            "ученая степень         0.000492\n",
            "Name: education, dtype: float64\n",
            "\n",
            "Семейное положение \n",
            " женат / замужем     0.889326\n",
            "гражданский брак    0.106739\n",
            "вдовец / вдова      0.003935\n",
            "Name: family_status, dtype: float64\n",
            "\n",
            "Пол \n",
            " M    2033\n",
            "Name: gender, dtype: int64\n",
            "\n",
            "Средний доход: 196795.99637993518\n",
            "\n",
            "Цель получения кредита \n",
            " на автомобиль     0.515494\n",
            "на образование    0.483522\n",
            "на свадьбу        0.000984\n",
            "Name: purpose, dtype: float64\n",
            "\n",
            "Процент просрочек: 10.23%\n",
            "\n",
            "Кластер 5.0\n",
            "\n",
            "Количество детей \n",
            " 0    0.906713\n",
            "1    0.083697\n",
            "2    0.009590\n",
            "Name: children, dtype: float64\n",
            "\n",
            "Средний возраст: 55\n",
            "\n",
            "Образование \n",
            " среднее                0.885789\n",
            "высшее                 0.059285\n",
            "начальное              0.036617\n",
            "неоконченное высшее    0.018309\n",
            "Name: education, dtype: float64\n",
            "\n",
            "Семейное положение \n",
            " вдовец / вдова           0.623365\n",
            "гражданский брак         0.355711\n",
            "Не женат / не замужем    0.011334\n",
            "в разводе                0.009590\n",
            "Name: family_status, dtype: float64\n",
            "\n",
            "Пол \n",
            " F    1147\n",
            "Name: gender, dtype: int64\n",
            "\n",
            "Средний доход: 143026.90740824648\n",
            "\n",
            "Цель получения кредита \n",
            " на недвижимость    0.483871\n",
            "на автомобиль      0.306016\n",
            "на образование     0.210113\n",
            "Name: purpose, dtype: float64\n",
            "\n",
            "Процент просрочек: 6.19%\n",
            "\n",
            "Кластер 6.0\n",
            "\n",
            "Количество детей \n",
            " 0    0.739623\n",
            "1    0.202830\n",
            "2    0.047170\n",
            "3    0.009434\n",
            "4    0.000943\n",
            "Name: children, dtype: float64\n",
            "\n",
            "Средний возраст: 44\n",
            "\n",
            "Образование \n",
            " среднее                0.673585\n",
            "высшее                 0.286792\n",
            "неоконченное высшее    0.035849\n",
            "начальное              0.003774\n",
            "Name: education, dtype: float64\n",
            "\n",
            "Семейное положение \n",
            " Не женат / не замужем    0.644340\n",
            "в разводе                0.333019\n",
            "вдовец / вдова           0.022642\n",
            "Name: family_status, dtype: float64\n",
            "\n",
            "Пол \n",
            " F    1060\n",
            "Name: gender, dtype: int64\n",
            "\n",
            "Средний доход: 159261.92813735234\n",
            "\n",
            "Цель получения кредита \n",
            " на автомобиль     0.50566\n",
            "на образование    0.49434\n",
            "Name: purpose, dtype: float64\n",
            "\n",
            "Процент просрочек: 7.26%\n",
            "\n",
            "Кластер 7.0\n",
            "\n",
            "Количество детей \n",
            " 0    0.737537\n",
            "1    0.214076\n",
            "2    0.041056\n",
            "3    0.006598\n",
            "4    0.000733\n",
            "Name: children, dtype: float64\n",
            "\n",
            "Средний возраст: 44\n",
            "\n",
            "Образование \n",
            " среднее                0.620968\n",
            "высшее                 0.329179\n",
            "неоконченное высшее    0.045455\n",
            "начальное              0.004399\n",
            "Name: education, dtype: float64\n",
            "\n",
            "Семейное положение \n",
            " Не женат / не замужем    0.613636\n",
            "в разводе                0.345308\n",
            "вдовец / вдова           0.041056\n",
            "Name: family_status, dtype: float64\n",
            "\n",
            "Пол \n",
            " F    1364\n",
            "Name: gender, dtype: int64\n",
            "\n",
            "Средний доход: 166242.34006765636\n",
            "\n",
            "Цель получения кредита \n",
            " на недвижимость    0.997801\n",
            "на автомобиль      0.002199\n",
            "Name: purpose, dtype: float64\n",
            "\n",
            "Процент просрочек: 6.16%\n",
            "\n",
            "Кластер 8.0\n",
            "\n",
            "Количество детей \n",
            " 0    0.808562\n",
            "1    0.177302\n",
            "2    0.013328\n",
            "3    0.000808\n",
            "Name: children, dtype: float64\n",
            "\n",
            "Средний возраст: 51\n",
            "\n",
            "Образование \n",
            " среднее                0.723748\n",
            "высшее                 0.198304\n",
            "неоконченное высшее    0.054120\n",
            "начальное              0.023425\n",
            "ученая степень         0.000404\n",
            "Name: education, dtype: float64\n",
            "\n",
            "Семейное положение \n",
            " женат / замужем     0.963651\n",
            "гражданский брак    0.034733\n",
            "вдовец / вдова      0.001616\n",
            "Name: family_status, dtype: float64\n",
            "\n",
            "Пол \n",
            " F    2476\n",
            "Name: gender, dtype: int64\n",
            "\n",
            "Средний доход: 154858.34864647326\n",
            "\n",
            "Цель получения кредита \n",
            " на недвижимость    0.986268\n",
            "на автомобиль      0.013732\n",
            "Name: purpose, dtype: float64\n",
            "\n",
            "Процент просрочек: 5.21%\n",
            "\n",
            "Кластер 9.0\n",
            "\n",
            "Количество детей \n",
            " 0    0.382926\n",
            "1    0.326510\n",
            "2    0.241138\n",
            "3    0.042436\n",
            "4    0.004993\n",
            "5    0.001997\n",
            "Name: children, dtype: float64\n",
            "\n",
            "Средний возраст: 34\n",
            "\n",
            "Образование \n",
            " среднее                0.655017\n",
            "высшее                 0.333000\n",
            "неоконченное высшее    0.009985\n",
            "начальное              0.001498\n",
            "ученая степень         0.000499\n",
            "Name: education, dtype: float64\n",
            "\n",
            "Семейное положение \n",
            " женат / замужем     0.815776\n",
            "гражданский брак    0.183225\n",
            "вдовец / вдова      0.000999\n",
            "Name: family_status, dtype: float64\n",
            "\n",
            "Пол \n",
            " F    2003\n",
            "Name: gender, dtype: int64\n",
            "\n",
            "Средний доход: 153582.1692886751\n",
            "\n",
            "Цель получения кредита \n",
            " на недвижимость    1.0\n",
            "Name: purpose, dtype: float64\n",
            "\n",
            "Процент просрочек: 8.44%\n",
            "\n",
            "Кластер 10.0\n",
            "\n",
            "Количество детей \n",
            " 0    0.676429\n",
            "1    0.213571\n",
            "2    0.095714\n",
            "3    0.012143\n",
            "4    0.001429\n",
            "5    0.000714\n",
            "Name: children, dtype: float64\n",
            "\n",
            "Средний возраст: 44\n",
            "\n",
            "Образование \n",
            " среднее                0.700714\n",
            "высшее                 0.259286\n",
            "неоконченное высшее    0.028571\n",
            "начальное              0.011429\n",
            "Name: education, dtype: float64\n",
            "\n",
            "Семейное положение \n",
            " гражданский брак    0.999286\n",
            "вдовец / вдова      0.000714\n",
            "Name: family_status, dtype: float64\n",
            "\n",
            "Пол \n",
            " F    1400\n",
            "Name: gender, dtype: int64\n",
            "\n",
            "Средний доход: 152545.60854931004\n",
            "\n",
            "Цель получения кредита \n",
            " на свадьбу        0.995714\n",
            "на образование    0.004286\n",
            "Name: purpose, dtype: float64\n",
            "\n",
            "Процент просрочек: 6.71%\n",
            "\n",
            "Кластер 11.0\n",
            "\n",
            "Количество детей \n",
            " 0    0.611489\n",
            "1    0.245213\n",
            "2    0.122298\n",
            "3    0.017295\n",
            "4    0.003088\n",
            "5    0.000618\n",
            "Name: children, dtype: float64\n",
            "\n",
            "Средний возраст: 43\n",
            "\n",
            "Образование \n",
            " среднее                0.712168\n",
            "высшее                 0.250772\n",
            "неоконченное высшее    0.031192\n",
            "начальное              0.005868\n",
            "Name: education, dtype: float64\n",
            "\n",
            "Семейное положение \n",
            " женат / замужем     0.909203\n",
            "гражданский брак    0.088017\n",
            "вдовец / вдова      0.002779\n",
            "Name: family_status, dtype: float64\n",
            "\n",
            "Пол \n",
            " F    3238\n",
            "Name: gender, dtype: int64\n",
            "\n",
            "Средний доход: 151844.52756331844\n",
            "\n",
            "Цель получения кредита \n",
            " на автомобиль     0.503706\n",
            "на образование    0.492588\n",
            "на свадьбу        0.003706\n",
            "Name: purpose, dtype: float64\n",
            "\n",
            "Процент просрочек: 8.21%\n",
            "\n"
          ]
        }
      ]
    },
    {
      "cell_type": "markdown",
      "metadata": {
        "id": "CXWYKGXA6kqN"
      },
      "source": [
        "**Итоги кластеризации:**\n",
        "\n",
        "Среди мужчин:\n",
        "\n",
        "1. Холостые молодые люди отдают кредит хуже всего, вне зависимости от уровня образования, дохода или цели кредита (**процент просрочек: 14.16%**).\n",
        "2. Лучше всего отдают кредит мужчины среднего возраста, женатые или в гражданском браке, целью кредита которых были операции с недвижимостью (**процент просрочек: 8.62%**).\n",
        "3. Мужчины, находящиеся в гражданском браке и берущие кредит на свадьбу, **имеют просрочку по кридиту в 9.28% случаев**.\n",
        "4. Остальные мужчины **имеют просрочку по кридиту в 10.23%\n",
        " случаев**.  \n",
        "\n",
        "Среди женщин:\n",
        " \n",
        "1. Замужние / в гражданском браке девушки, чаще всего имеющие детей и берущие кредит на операции с недвижимостью, имеют больше всего просрочек по кредиту (**процент просрочек: 8.44%**).\n",
        "2. Примерно такую же долю просрочек имеют женщины среднего возраста, замужние или в гражданском браке, берущие кредит на автомобиль или образование (**процент просрочек: 8.21%**).\n",
        "3. Лучше всего отдают кредит замужние женщины с средним возрастом 51 год, целью кредита которых были операции с недвижимостью (**процент просрочек: 5.21%**).\n",
        "4. Незамужние / в разводе / вдовы среднего возраста без детей или с одним, берущие кредит на недвижимость, **имеют просрочку по кридиту в 6.16% случаев**.\n",
        "5. Похожую долю просрочек имеют женщины предпенсионного возраста без детей, берущие кредит на недвижимость, автомобиль или образование (**процент просрочек: 6.19%**).\n",
        "6. Женщины среднего возраста, находящиеся в гражданском браке и берущие кредит на свадьбу, **имеют просрочку по кридиту в 6.71% случаев**.\n",
        "7. Незамужние / в разводе / вдовы среднего возраста без детей или с одним, берущие кредит на автомобиль или образование, **имеют просрочку по кридиту в 7.26% случаев**.\n"
      ]
    },
    {
      "cell_type": "markdown",
      "metadata": {
        "id": "NUchwgnvbSMs"
      },
      "source": [
        "## Метод k-средних"
      ]
    },
    {
      "cell_type": "code",
      "metadata": {
        "id": "bD7R_7IaEgiQ"
      },
      "source": [
        "from sklearn.cluster import KMeans\n",
        "model = KMeans(n_clusters = 2, random_state = 42)"
      ],
      "execution_count": 53,
      "outputs": []
    },
    {
      "cell_type": "code",
      "metadata": {
        "colab": {
          "base_uri": "https://localhost:8080/"
        },
        "id": "SDAV-cBZEpwu",
        "outputId": "c94e17ee-d4e7-4a94-9802-32abd6f4cdd5"
      },
      "source": [
        "model.fit(normalized_df.drop('cluster', axis=1).values.reshape(-1, 1))"
      ],
      "execution_count": 54,
      "outputs": [
        {
          "output_type": "execute_result",
          "data": {
            "text/plain": [
              "KMeans(n_clusters=2, random_state=42)"
            ]
          },
          "metadata": {},
          "execution_count": 54
        }
      ]
    },
    {
      "cell_type": "code",
      "metadata": {
        "colab": {
          "base_uri": "https://localhost:8080/"
        },
        "id": "XwJ5XLaYGsgb",
        "outputId": "59d95996-2653-4168-d798-16f380a01fd4"
      },
      "source": [
        "model.labels_"
      ],
      "execution_count": 55,
      "outputs": [
        {
          "output_type": "execute_result",
          "data": {
            "text/plain": [
              "array([0, 0, 0, ..., 0, 0, 0], dtype=int32)"
            ]
          },
          "metadata": {},
          "execution_count": 55
        }
      ]
    },
    {
      "cell_type": "code",
      "metadata": {
        "colab": {
          "base_uri": "https://localhost:8080/",
          "height": 299
        },
        "id": "0UYboux-IP7O",
        "outputId": "eb834f42-2d31-4809-ec96-67401d0fa59e"
      },
      "source": [
        "K = range(4, 15)\n",
        "\n",
        "models = [KMeans(n_clusters=k, random_state=42).fit(normalized_df.drop('cluster', axis=1).values) for k in K]\n",
        "dist = [model.inertia_ for model in models]\n",
        "\n",
        "plt.plot(K, dist, marker='o')\n",
        "plt.xlabel('k')\n",
        "plt.ylabel('Sum of distances')\n",
        "plt.title('The Elbow Method showing the optimal k')\n",
        "plt.show()"
      ],
      "execution_count": 56,
      "outputs": [
        {
          "output_type": "display_data",
          "data": {
            "image/png": "[encoded data removed]",
            "text/plain": [
              "<Figure size 432x288 with 1 Axes>"
            ]
          },
          "metadata": {
            "needs_background": "light"
          }
        }
      ]
    },
    {
      "cell_type": "markdown",
      "metadata": {
        "id": "xoHHbIb5FwjP"
      },
      "source": [
        "После 7 кластеров сумма расстояний падает не так сильно, поэтому остановимся на этом количестве кластеров"
      ]
    },
    {
      "cell_type": "code",
      "metadata": {
        "id": "A4TbqKqqJsmc",
        "colab": {
          "base_uri": "https://localhost:8080/",
          "height": 300
        },
        "outputId": "e910ad5e-578a-4265-83ba-ef50baf79515"
      },
      "source": [
        "model = KMeans(n_clusters = 7, random_state = 42)\n",
        "model.fit(normalized_df.drop('cluster', axis=1).values)\n",
        "normalized_df['cluster2'] = model.labels_\n",
        "normalized_df.groupby('cluster2').mean()"
      ],
      "execution_count": 57,
      "outputs": [
        {
          "output_type": "execute_result",
          "data": {
            "text/html": [
              "<div>\n",
              "<style scoped>\n",
              "    .dataframe tbody tr th:only-of-type {\n",
              "        vertical-align: middle;\n",
              "    }\n",
              "\n",
              "    .dataframe tbody tr th {\n",
              "        vertical-align: top;\n",
              "    }\n",
              "\n",
              "    .dataframe thead th {\n",
              "        text-align: right;\n",
              "    }\n",
              "</style>\n",
              "<table border=\"1\" class=\"dataframe\">\n",
              "  <thead>\n",
              "    <tr style=\"text-align: right;\">\n",
              "      <th></th>\n",
              "      <th>children</th>\n",
              "      <th>dob_years</th>\n",
              "      <th>education_id</th>\n",
              "      <th>family_status_id</th>\n",
              "      <th>gender_id</th>\n",
              "      <th>purpose_id</th>\n",
              "      <th>total_income</th>\n",
              "      <th>cluster</th>\n",
              "    </tr>\n",
              "    <tr>\n",
              "      <th>cluster2</th>\n",
              "      <th></th>\n",
              "      <th></th>\n",
              "      <th></th>\n",
              "      <th></th>\n",
              "      <th></th>\n",
              "      <th></th>\n",
              "      <th></th>\n",
              "      <th></th>\n",
              "    </tr>\n",
              "  </thead>\n",
              "  <tbody>\n",
              "    <tr>\n",
              "      <th>0</th>\n",
              "      <td>0.120369</td>\n",
              "      <td>0.421670</td>\n",
              "      <td>0.208582</td>\n",
              "      <td>0.031776</td>\n",
              "      <td>1.0</td>\n",
              "      <td>0.094967</td>\n",
              "      <td>0.078316</td>\n",
              "      <td>2.559750</td>\n",
              "    </tr>\n",
              "    <tr>\n",
              "      <th>1</th>\n",
              "      <td>0.046557</td>\n",
              "      <td>0.298785</td>\n",
              "      <td>0.217623</td>\n",
              "      <td>0.949385</td>\n",
              "      <td>1.0</td>\n",
              "      <td>0.196995</td>\n",
              "      <td>0.071672</td>\n",
              "      <td>1.008197</td>\n",
              "    </tr>\n",
              "    <tr>\n",
              "      <th>2</th>\n",
              "      <td>0.094179</td>\n",
              "      <td>0.461310</td>\n",
              "      <td>0.204657</td>\n",
              "      <td>0.153493</td>\n",
              "      <td>0.0</td>\n",
              "      <td>0.810253</td>\n",
              "      <td>0.057978</td>\n",
              "      <td>10.105086</td>\n",
              "    </tr>\n",
              "    <tr>\n",
              "      <th>3</th>\n",
              "      <td>0.016222</td>\n",
              "      <td>0.640968</td>\n",
              "      <td>0.220039</td>\n",
              "      <td>0.102301</td>\n",
              "      <td>0.0</td>\n",
              "      <td>0.092993</td>\n",
              "      <td>0.057257</td>\n",
              "      <td>7.981476</td>\n",
              "    </tr>\n",
              "    <tr>\n",
              "      <th>4</th>\n",
              "      <td>0.063514</td>\n",
              "      <td>0.435691</td>\n",
              "      <td>0.195067</td>\n",
              "      <td>0.897574</td>\n",
              "      <td>0.0</td>\n",
              "      <td>0.219867</td>\n",
              "      <td>0.062897</td>\n",
              "      <td>6.491235</td>\n",
              "    </tr>\n",
              "    <tr>\n",
              "      <th>5</th>\n",
              "      <td>0.186502</td>\n",
              "      <td>0.279458</td>\n",
              "      <td>0.185593</td>\n",
              "      <td>0.039246</td>\n",
              "      <td>0.0</td>\n",
              "      <td>0.093799</td>\n",
              "      <td>0.060715</td>\n",
              "      <td>9.316901</td>\n",
              "    </tr>\n",
              "    <tr>\n",
              "      <th>6</th>\n",
              "      <td>0.114080</td>\n",
              "      <td>0.410169</td>\n",
              "      <td>0.209856</td>\n",
              "      <td>0.119083</td>\n",
              "      <td>1.0</td>\n",
              "      <td>0.802676</td>\n",
              "      <td>0.077348</td>\n",
              "      <td>3.584182</td>\n",
              "    </tr>\n",
              "  </tbody>\n",
              "</table>\n",
              "</div>"
            ],
            "text/plain": [
              "          children  dob_years  ...  total_income    cluster\n",
              "cluster2                       ...                         \n",
              "0         0.120369   0.421670  ...      0.078316   2.559750\n",
              "1         0.046557   0.298785  ...      0.071672   1.008197\n",
              "2         0.094179   0.461310  ...      0.057978  10.105086\n",
              "3         0.016222   0.640968  ...      0.057257   7.981476\n",
              "4         0.063514   0.435691  ...      0.062897   6.491235\n",
              "5         0.186502   0.279458  ...      0.060715   9.316901\n",
              "6         0.114080   0.410169  ...      0.077348   3.584182\n",
              "\n",
              "[7 rows x 8 columns]"
            ]
          },
          "metadata": {},
          "execution_count": 57
        }
      ]
    },
    {
      "cell_type": "code",
      "metadata": {
        "id": "9xIOiuB0Mtgh"
      },
      "source": [
        "df = df.join(normalized_df['cluster2'])"
      ],
      "execution_count": 58,
      "outputs": []
    },
    {
      "cell_type": "code",
      "metadata": {
        "colab": {
          "base_uri": "https://localhost:8080/",
          "height": 313
        },
        "id": "KGyZK95zLwgH",
        "outputId": "f6fe3da0-a80e-4d73-8e14-55fc54aa72d1"
      },
      "source": [
        "df.head()"
      ],
      "execution_count": 59,
      "outputs": [
        {
          "output_type": "execute_result",
          "data": {
            "text/html": [
              "<div>\n",
              "<style scoped>\n",
              "    .dataframe tbody tr th:only-of-type {\n",
              "        vertical-align: middle;\n",
              "    }\n",
              "\n",
              "    .dataframe tbody tr th {\n",
              "        vertical-align: top;\n",
              "    }\n",
              "\n",
              "    .dataframe thead th {\n",
              "        text-align: right;\n",
              "    }\n",
              "</style>\n",
              "<table border=\"1\" class=\"dataframe\">\n",
              "  <thead>\n",
              "    <tr style=\"text-align: right;\">\n",
              "      <th></th>\n",
              "      <th>children</th>\n",
              "      <th>days_employed</th>\n",
              "      <th>dob_years</th>\n",
              "      <th>education</th>\n",
              "      <th>education_id</th>\n",
              "      <th>family_status</th>\n",
              "      <th>family_status_id</th>\n",
              "      <th>gender</th>\n",
              "      <th>income_type</th>\n",
              "      <th>debt</th>\n",
              "      <th>total_income</th>\n",
              "      <th>purpose</th>\n",
              "      <th>purpose_id</th>\n",
              "      <th>gender_id</th>\n",
              "      <th>cluster</th>\n",
              "      <th>cluster2</th>\n",
              "    </tr>\n",
              "  </thead>\n",
              "  <tbody>\n",
              "    <tr>\n",
              "      <th>0</th>\n",
              "      <td>1</td>\n",
              "      <td>-8437.673028</td>\n",
              "      <td>42</td>\n",
              "      <td>высшее</td>\n",
              "      <td>0</td>\n",
              "      <td>женат / замужем</td>\n",
              "      <td>0</td>\n",
              "      <td>F</td>\n",
              "      <td>сотрудник</td>\n",
              "      <td>0</td>\n",
              "      <td>253875.639453</td>\n",
              "      <td>на недвижимость</td>\n",
              "      <td>0</td>\n",
              "      <td>0</td>\n",
              "      <td>9.0</td>\n",
              "      <td>5.0</td>\n",
              "    </tr>\n",
              "    <tr>\n",
              "      <th>1</th>\n",
              "      <td>1</td>\n",
              "      <td>-4024.803754</td>\n",
              "      <td>36</td>\n",
              "      <td>среднее</td>\n",
              "      <td>1</td>\n",
              "      <td>женат / замужем</td>\n",
              "      <td>0</td>\n",
              "      <td>F</td>\n",
              "      <td>сотрудник</td>\n",
              "      <td>0</td>\n",
              "      <td>112080.014102</td>\n",
              "      <td>на автомобиль</td>\n",
              "      <td>1</td>\n",
              "      <td>0</td>\n",
              "      <td>11.0</td>\n",
              "      <td>5.0</td>\n",
              "    </tr>\n",
              "    <tr>\n",
              "      <th>2</th>\n",
              "      <td>0</td>\n",
              "      <td>-5623.422610</td>\n",
              "      <td>33</td>\n",
              "      <td>среднее</td>\n",
              "      <td>1</td>\n",
              "      <td>женат / замужем</td>\n",
              "      <td>0</td>\n",
              "      <td>M</td>\n",
              "      <td>сотрудник</td>\n",
              "      <td>0</td>\n",
              "      <td>145885.952297</td>\n",
              "      <td>на недвижимость</td>\n",
              "      <td>0</td>\n",
              "      <td>1</td>\n",
              "      <td>2.0</td>\n",
              "      <td>0.0</td>\n",
              "    </tr>\n",
              "    <tr>\n",
              "      <th>3</th>\n",
              "      <td>3</td>\n",
              "      <td>-4124.747207</td>\n",
              "      <td>32</td>\n",
              "      <td>среднее</td>\n",
              "      <td>1</td>\n",
              "      <td>женат / замужем</td>\n",
              "      <td>0</td>\n",
              "      <td>M</td>\n",
              "      <td>сотрудник</td>\n",
              "      <td>0</td>\n",
              "      <td>267628.550329</td>\n",
              "      <td>на образование</td>\n",
              "      <td>2</td>\n",
              "      <td>1</td>\n",
              "      <td>4.0</td>\n",
              "      <td>6.0</td>\n",
              "    </tr>\n",
              "    <tr>\n",
              "      <th>4</th>\n",
              "      <td>0</td>\n",
              "      <td>340266.072047</td>\n",
              "      <td>53</td>\n",
              "      <td>среднее</td>\n",
              "      <td>1</td>\n",
              "      <td>гражданский брак</td>\n",
              "      <td>1</td>\n",
              "      <td>F</td>\n",
              "      <td>пенсионер</td>\n",
              "      <td>0</td>\n",
              "      <td>158616.077870</td>\n",
              "      <td>на свадьбу</td>\n",
              "      <td>3</td>\n",
              "      <td>0</td>\n",
              "      <td>10.0</td>\n",
              "      <td>2.0</td>\n",
              "    </tr>\n",
              "  </tbody>\n",
              "</table>\n",
              "</div>"
            ],
            "text/plain": [
              "   children  days_employed  dob_years  ... gender_id  cluster cluster2\n",
              "0         1   -8437.673028         42  ...         0      9.0      5.0\n",
              "1         1   -4024.803754         36  ...         0     11.0      5.0\n",
              "2         0   -5623.422610         33  ...         1      2.0      0.0\n",
              "3         3   -4124.747207         32  ...         1      4.0      6.0\n",
              "4         0  340266.072047         53  ...         0     10.0      2.0\n",
              "\n",
              "[5 rows x 16 columns]"
            ]
          },
          "metadata": {},
          "execution_count": 59
        }
      ]
    },
    {
      "cell_type": "code",
      "metadata": {
        "id": "dPXuJD6lOg3o",
        "colab": {
          "base_uri": "https://localhost:8080/"
        },
        "outputId": "0ecd5500-b80d-4d3b-ed10-37fbeeeeb6b3"
      },
      "source": [
        "for i, data in df.groupby('cluster2'):\n",
        "  print('Кластер', i)\n",
        "  print()\n",
        "  print(\"Количество детей \\n\", data['children'].value_counts() / data['children'].value_counts().sum())\n",
        "  print()\n",
        "  print(f\"Средний возраст: {data['dob_years'].mean():.0f}\")\n",
        "  print()\n",
        "  print(\"Образование \\n\", data['education'].value_counts() / data['education'].value_counts().sum())\n",
        "  print()\n",
        "  print(\"Семейное положение \\n\", data['family_status'].value_counts() / data['family_status'].value_counts().sum())\n",
        "  print()\n",
        "  print(\"Пол \\n\", data['gender'].value_counts())\n",
        "  print()\n",
        "  print(f\"Средний доход: {data['total_income'].mean()}\")\n",
        "  print()\n",
        "  print(\"Цель получения кредита \\n\", data['purpose'].value_counts() / data['purpose'].value_counts().sum())\n",
        "  print()\n",
        "  print(f\"Процент просрочек: {data['debt'].mean():.2%}\")\n",
        "  print()"
      ],
      "execution_count": 60,
      "outputs": [
        {
          "output_type": "stream",
          "name": "stdout",
          "text": [
            "Кластер 0.0\n",
            "\n",
            "Количество детей \n",
            " 0    0.578490\n",
            "1    0.266703\n",
            "2    0.131993\n",
            "3    0.020369\n",
            "4    0.002173\n",
            "5    0.000272\n",
            "Name: children, dtype: float64\n",
            "\n",
            "Средний возраст: 43\n",
            "\n",
            "Образование \n",
            " среднее                0.725149\n",
            "высшее                 0.228952\n",
            "неоконченное высшее    0.028789\n",
            "начальное              0.016839\n",
            "ученая степень         0.000272\n",
            "Name: education, dtype: float64\n",
            "\n",
            "Семейное положение \n",
            " женат / замужем     0.884030\n",
            "гражданский брак    0.104834\n",
            "вдовец / вдова      0.011135\n",
            "Name: family_status, dtype: float64\n",
            "\n",
            "Пол \n",
            " M    3682\n",
            "Name: gender, dtype: int64\n",
            "\n",
            "Средний доход: 196482.66317722976\n",
            "\n",
            "Цель получения кредита \n",
            " на недвижимость    0.7151\n",
            "на автомобиль      0.2849\n",
            "Name: purpose, dtype: float64\n",
            "\n",
            "Процент просрочек: 9.13%\n",
            "\n",
            "Кластер 1.0\n",
            "\n",
            "Количество детей \n",
            " 0    0.808197\n",
            "1    0.153279\n",
            "2    0.036066\n",
            "3    0.002459\n",
            "Name: children, dtype: float64\n",
            "\n",
            "Средний возраст: 36\n",
            "\n",
            "Образование \n",
            " среднее                0.652459\n",
            "высшее                 0.250000\n",
            "неоконченное высшее    0.076230\n",
            "начальное              0.019672\n",
            "ученая степень         0.001639\n",
            "Name: education, dtype: float64\n",
            "\n",
            "Семейное положение \n",
            " Не женат / не замужем    0.800820\n",
            "в разводе                0.195902\n",
            "вдовец / вдова           0.003279\n",
            "Name: family_status, dtype: float64\n",
            "\n",
            "Пол \n",
            " M    1220\n",
            "Name: gender, dtype: int64\n",
            "\n",
            "Средний доход: 181567.41415217912\n",
            "\n",
            "Цель получения кредита \n",
            " на недвижимость    0.593443\n",
            "на автомобиль      0.222131\n",
            "на образование     0.184426\n",
            "Name: purpose, dtype: float64\n",
            "\n",
            "Процент просрочек: 14.02%\n",
            "\n",
            "Кластер 2.0\n",
            "\n",
            "Количество детей \n",
            " 0    0.667892\n",
            "1    0.212929\n",
            "2    0.102328\n",
            "3    0.014706\n",
            "4    0.001532\n",
            "5    0.000613\n",
            "Name: children, dtype: float64\n",
            "\n",
            "Средний возраст: 45\n",
            "\n",
            "Образование \n",
            " среднее                0.718750\n",
            "высшее                 0.237439\n",
            "неоконченное высшее    0.031556\n",
            "начальное              0.012255\n",
            "Name: education, dtype: float64\n",
            "\n",
            "Семейное положение \n",
            " гражданский брак    0.507966\n",
            "женат / замужем     0.439032\n",
            "вдовец / вдова      0.053002\n",
            "Name: family_status, dtype: float64\n",
            "\n",
            "Пол \n",
            " F    3264\n",
            "Name: gender, dtype: int64\n",
            "\n",
            "Средний доход: 150823.926865309\n",
            "\n",
            "Цель получения кредита \n",
            " на образование    0.56924\n",
            "на свадьбу        0.43076\n",
            "Name: purpose, dtype: float64\n",
            "\n",
            "Процент просрочек: 7.54%\n",
            "\n",
            "Кластер 3.0\n",
            "\n",
            "Количество детей \n",
            " 0    0.924782\n",
            "1    0.069604\n",
            "2    0.005333\n",
            "3    0.000281\n",
            "Name: children, dtype: float64\n",
            "\n",
            "Средний возраст: 55\n",
            "\n",
            "Образование \n",
            " среднее                0.798484\n",
            "высшее                 0.169239\n",
            "начальное              0.016559\n",
            "неоконченное высшее    0.015436\n",
            "ученая степень         0.000281\n",
            "Name: education, dtype: float64\n",
            "\n",
            "Семейное положение \n",
            " женат / замужем     0.740107\n",
            "вдовец / вдова      0.149312\n",
            "гражданский брак    0.110581\n",
            "Name: family_status, dtype: float64\n",
            "\n",
            "Пол \n",
            " F    3563\n",
            "Name: gender, dtype: int64\n",
            "\n",
            "Средний доход: 149205.06689560902\n",
            "\n",
            "Цель получения кредита \n",
            " на недвижимость    0.721022\n",
            "на автомобиль      0.278978\n",
            "Name: purpose, dtype: float64\n",
            "\n",
            "Процент просрочек: 5.02%\n",
            "\n",
            "Кластер 4.0\n",
            "\n",
            "Количество детей \n",
            " 0    0.738687\n",
            "1    0.212393\n",
            "2    0.042397\n",
            "3    0.005707\n",
            "4    0.000815\n",
            "Name: children, dtype: float64\n",
            "\n",
            "Средний возраст: 43\n",
            "\n",
            "Образование \n",
            " среднее                0.657970\n",
            "высшее                 0.286588\n",
            "неоконченное высшее    0.044028\n",
            "начальное              0.011415\n",
            "Name: education, dtype: float64\n",
            "\n",
            "Семейное положение \n",
            " Не женат / не замужем    0.624949\n",
            "в разводе                0.340400\n",
            "вдовец / вдова           0.034651\n",
            "Name: family_status, dtype: float64\n",
            "\n",
            "Пол \n",
            " F    2453\n",
            "Name: gender, dtype: int64\n",
            "\n",
            "Средний доход: 161866.91907644633\n",
            "\n",
            "Цель получения кредита \n",
            " на недвижимость    0.547493\n",
            "на автомобиль      0.245414\n",
            "на образование     0.207093\n",
            "Name: purpose, dtype: float64\n",
            "\n",
            "Процент просрочек: 6.64%\n",
            "\n",
            "Кластер 5.0\n",
            "\n",
            "Количество детей \n",
            " 1    0.388791\n",
            "0    0.363556\n",
            "2    0.207160\n",
            "3    0.034038\n",
            "4    0.004988\n",
            "5    0.001467\n",
            "Name: children, dtype: float64\n",
            "\n",
            "Средний возраст: 35\n",
            "\n",
            "Образование \n",
            " среднее                0.634683\n",
            "высшее                 0.314847\n",
            "неоконченное высшее    0.044014\n",
            "начальное              0.006162\n",
            "ученая степень         0.000293\n",
            "Name: education, dtype: float64\n",
            "\n",
            "Семейное положение \n",
            " женат / замужем     0.849178\n",
            "гражданский брак    0.144660\n",
            "вдовец / вдова      0.006162\n",
            "Name: family_status, dtype: float64\n",
            "\n",
            "Пол \n",
            " F    3408\n",
            "Name: gender, dtype: int64\n",
            "\n",
            "Средний доход: 156968.41076764473\n",
            "\n",
            "Цель получения кредита \n",
            " на недвижимость    0.718603\n",
            "на автомобиль      0.281397\n",
            "Name: purpose, dtype: float64\n",
            "\n",
            "Процент просрочек: 8.86%\n",
            "\n",
            "Кластер 6.0\n",
            "\n",
            "Количество детей \n",
            " 0    0.602756\n",
            "1    0.248053\n",
            "2    0.126423\n",
            "3    0.021570\n",
            "4    0.001198\n",
            "Name: children, dtype: float64\n",
            "\n",
            "Средний возраст: 42\n",
            "\n",
            "Образование \n",
            " среднее                0.720192\n",
            "высшее                 0.228880\n",
            "неоконченное высшее    0.034152\n",
            "начальное              0.016177\n",
            "ученая степень         0.000599\n",
            "Name: education, dtype: float64\n",
            "\n",
            "Семейное положение \n",
            " женат / замужем     0.526663\n",
            "гражданский брак    0.470342\n",
            "вдовец / вдова      0.002996\n",
            "Name: family_status, dtype: float64\n",
            "\n",
            "Пол \n",
            " M    1669\n",
            "Name: gender, dtype: int64\n",
            "\n",
            "Средний доход: 194308.0004739499\n",
            "\n",
            "Цель получения кредита \n",
            " на образование    0.591971\n",
            "на свадьбу        0.408029\n",
            "Name: purpose, dtype: float64\n",
            "\n",
            "Процент просрочек: 9.95%\n",
            "\n"
          ]
        }
      ]
    },
    {
      "cell_type": "markdown",
      "metadata": {
        "id": "CJUdEaBcEzV9"
      },
      "source": [
        "**Итоги кластеризации**\n",
        "\n",
        "Среди мужчин:\n",
        "\n",
        "1. Холостые молодые люди отдают кредит хуже всего, вне зависимости от уровня образования, дохода или цели кредита (**процент просрочек: 14.02%**).\n",
        "2. Лучше всего отдают кредит мужчины среднего возраста, большиство женатые, некоторые в гражданском браке, целью кредита которых были операции с недвижимостью или покупка автомобиля (**процент просрочек: 8.62%**).\n",
        "3. Женатые или в гражданском браке мужчины среднего возраста, берущие кредит на образование или свадьбу, **имеют просрочку по кридиту в 9.95% случаев.**\n",
        "\n",
        "Среди женщин:\n",
        "\n",
        "1. Замужние / в гражданском браке девушки, чаще всего имеющие детей и берущие кредит на операции с недвижимостью или автомобиль, имеют больше всего просрочек по кредиту (**процент просрочек: 8.86%**).\n",
        "2. Замужние / в гражданском браке / вдовы в предпренсионном возрасте, не имеющие детей и берущие кредит на операции с недвижимостью или автомобиль, **имеют просрочку по кридиту в 5.02% случаев.**\n",
        "3. Незамужние или в разводе женщины в среднем возрасте без детей или с одним ребёнком, берущие кредит на недвижимость / автомобиль / образование, **имеют просрочку по кридиту в 6.64% случаев.**\n",
        "4. В гражданском браке / замужние женщины среднего возраста, берущие кредит на образование или свадьбу, **имеют просрочку по кридиту в 7.54% случаев.**\n"
      ]
    },
    {
      "cell_type": "markdown",
      "metadata": {
        "id": "7tZIuUDubLyZ"
      },
      "source": [
        "# Вывод"
      ]
    },
    {
      "cell_type": "markdown",
      "metadata": {
        "id": "ipn5DIzyds3W"
      },
      "source": [
        "1. Обработаны пропуски в данных\n",
        "2. Выявлены аномальные данные в столбце days_employed и children\n",
        "3. Проведена иерархическая кластеризация и кластеризация по методу k-средних\n",
        "4. В целом кластеризации дали похожий результат:\n",
        "  *   Обе кластеризации выделили холостых молодых людей \n",
        "  *   Обе кластеризации выделили девушек с детьми\n",
        "  *   Обе кластеризации выделили женщин в предпенсионном возрасте\n",
        "  *   Так как в k-кластерном анализе было меньше групп, то остальные кластеры, выделенные при иерархической кластеризации были разделены между оставшимися кластерами по методу k-средних\n",
        "5. Мужчины отдают кредиты в целом хуже: худшая группа среди женщин отдает кредиты на уровне лучшей группы среди мужчин\n",
        "6. Самой надежной группой заемщиков оказались замужние / в гражданском браке / вдовы в предпренсионном возрасте, не имеющие детей и берущие кредит на операции с недвижимостью или автомобиль (процент просрочек: 5.02%).\n",
        "7. Самой ненадежной группой заемщиков оказались холостые молодые люди отдают кредит хуже всего, вне зависимости от уровня образования, дохода или цели кредита (процент просрочек: 14.02%).\n",
        "\n"
      ]
    },
    {
      "cell_type": "code",
      "metadata": {
        "id": "JGynfryumD8h"
      },
      "source": [
        ""
      ],
      "execution_count": 60,
      "outputs": []
    }
  ]
}